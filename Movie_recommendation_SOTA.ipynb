{
  "nbformat": 4,
  "nbformat_minor": 0,
  "metadata": {
    "colab": {
      "name": "Movie recommendation SOTA",
      "provenance": [],
      "mount_file_id": "1p1bM-2dz7IsRRC1YsatV2_MjtrqKMJwo",
      "authorship_tag": "ABX9TyPr8vtrAZm/anf8Lo6QvK69",
      "include_colab_link": true
    },
    "kernelspec": {
      "name": "python3",
      "display_name": "Python 3"
    },
    "language_info": {
      "name": "python"
    }
  },
  "cells": [
    {
      "cell_type": "markdown",
      "metadata": {
        "id": "view-in-github",
        "colab_type": "text"
      },
      "source": [
        "<a href=\"https://colab.research.google.com/github/sharadnatarajSJSU/CMPE_255_MovieReccomend/blob/main/Movie_recommendation_SOTA.ipynb\" target=\"_parent\"><img src=\"https://colab.research.google.com/assets/colab-badge.svg\" alt=\"Open In Colab\"/></a>"
      ]
    },
    {
      "cell_type": "code",
      "source": [
        "!pip install boto3"
      ],
      "metadata": {
        "colab": {
          "base_uri": "https://localhost:8080/"
        },
        "id": "EEBWm6JXwRRD",
        "outputId": "e136a027-f19e-4e51-9010-286b2cd208a6"
      },
      "execution_count": null,
      "outputs": [
        {
          "output_type": "stream",
          "name": "stdout",
          "text": [
            "Requirement already satisfied: boto3 in /usr/local/lib/python3.7/dist-packages (1.20.23)\n",
            "Requirement already satisfied: jmespath<1.0.0,>=0.7.1 in /usr/local/lib/python3.7/dist-packages (from boto3) (0.10.0)\n",
            "Requirement already satisfied: s3transfer<0.6.0,>=0.5.0 in /usr/local/lib/python3.7/dist-packages (from boto3) (0.5.0)\n",
            "Requirement already satisfied: botocore<1.24.0,>=1.23.23 in /usr/local/lib/python3.7/dist-packages (from boto3) (1.23.23)\n",
            "Requirement already satisfied: python-dateutil<3.0.0,>=2.1 in /usr/local/lib/python3.7/dist-packages (from botocore<1.24.0,>=1.23.23->boto3) (2.8.2)\n",
            "Requirement already satisfied: urllib3<1.27,>=1.25.4 in /usr/local/lib/python3.7/dist-packages (from botocore<1.24.0,>=1.23.23->boto3) (1.26.7)\n",
            "Requirement already satisfied: six>=1.5 in /usr/local/lib/python3.7/dist-packages (from python-dateutil<3.0.0,>=2.1->botocore<1.24.0,>=1.23.23->boto3) (1.15.0)\n"
          ]
        }
      ]
    },
    {
      "cell_type": "code",
      "source": [
        "!pip install awscli"
      ],
      "metadata": {
        "colab": {
          "base_uri": "https://localhost:8080/"
        },
        "id": "vTQVq5L4zLea",
        "outputId": "e302dbcf-9056-4cf7-8275-bad5446fadc4"
      },
      "execution_count": null,
      "outputs": [
        {
          "output_type": "stream",
          "name": "stdout",
          "text": [
            "Requirement already satisfied: awscli in /usr/local/lib/python3.7/dist-packages (1.22.23)\n",
            "Requirement already satisfied: s3transfer<0.6.0,>=0.5.0 in /usr/local/lib/python3.7/dist-packages (from awscli) (0.5.0)\n",
            "Requirement already satisfied: PyYAML<5.5,>=3.10 in /usr/local/lib/python3.7/dist-packages (from awscli) (3.13)\n",
            "Requirement already satisfied: docutils<0.16,>=0.10 in /usr/local/lib/python3.7/dist-packages (from awscli) (0.15.2)\n",
            "Requirement already satisfied: rsa<4.8,>=3.1.2 in /usr/local/lib/python3.7/dist-packages (from awscli) (4.7.2)\n",
            "Requirement already satisfied: colorama<0.4.4,>=0.2.5 in /usr/local/lib/python3.7/dist-packages (from awscli) (0.4.3)\n",
            "Requirement already satisfied: botocore==1.23.23 in /usr/local/lib/python3.7/dist-packages (from awscli) (1.23.23)\n",
            "Requirement already satisfied: python-dateutil<3.0.0,>=2.1 in /usr/local/lib/python3.7/dist-packages (from botocore==1.23.23->awscli) (2.8.2)\n",
            "Requirement already satisfied: jmespath<1.0.0,>=0.7.1 in /usr/local/lib/python3.7/dist-packages (from botocore==1.23.23->awscli) (0.10.0)\n",
            "Requirement already satisfied: urllib3<1.27,>=1.25.4 in /usr/local/lib/python3.7/dist-packages (from botocore==1.23.23->awscli) (1.26.7)\n",
            "Requirement already satisfied: six>=1.5 in /usr/local/lib/python3.7/dist-packages (from python-dateutil<3.0.0,>=2.1->botocore==1.23.23->awscli) (1.15.0)\n",
            "Requirement already satisfied: pyasn1>=0.1.3 in /usr/local/lib/python3.7/dist-packages (from rsa<4.8,>=3.1.2->awscli) (0.4.8)\n"
          ]
        }
      ]
    },
    {
      "cell_type": "code",
      "source": [
        "import os\n",
        "!export AWS_SHARED_CREDENTIALS_FILE=/content/drive/MyDrive/config/config.ini"
      ],
      "metadata": {
        "id": "1ShWP-v_0Og6"
      },
      "execution_count": null,
      "outputs": []
    },
    {
      "cell_type": "code",
      "source": [
        "path = \"/content/drive/My Drive/config/config.ini\"\n",
        "os.environ['AWS_SHARED_CREDENTIALS_FILE'] = path\n",
        "print(os.environ['AWS_SHARED_CREDENTIALS_FILE'])"
      ],
      "metadata": {
        "colab": {
          "base_uri": "https://localhost:8080/"
        },
        "id": "1yUVQ28d0SPA",
        "outputId": "ba861b8f-08b8-4e53-8e10-29bd9cc95326"
      },
      "execution_count": null,
      "outputs": [
        {
          "output_type": "stream",
          "name": "stdout",
          "text": [
            "/content/drive/My Drive/config/config.ini\n"
          ]
        }
      ]
    },
    {
      "cell_type": "code",
      "source": [
        "!aws s3 ls s3://255movie --recursive --human-readable --summarize"
      ],
      "metadata": {
        "colab": {
          "base_uri": "https://localhost:8080/"
        },
        "id": "yRsiEvoT0Xhg",
        "outputId": "b1dd7f57-1da8-43bf-8b98-f7a8bc236b59"
      },
      "execution_count": null,
      "outputs": [
        {
          "output_type": "stream",
          "name": "stdout",
          "text": [
            "2021-12-11 00:20:56  206.2 MiB movies.csv\n",
            "\n",
            "Total Objects: 1\n",
            "   Total Size: 206.2 MiB\n"
          ]
        }
      ]
    },
    {
      "cell_type": "code",
      "execution_count": null,
      "metadata": {
        "id": "coh4YIU0v7MM"
      },
      "outputs": [],
      "source": [
        "import boto3.session\n",
        "\n",
        "import json\n",
        "import numpy as np\n",
        "import pandas as pd\n",
        "import time"
      ]
    },
    {
      "cell_type": "code",
      "source": [
        "personalize = boto3.client('personalize',aws_region_name='us-west-2')\n"
      ],
      "metadata": {
        "id": "dRNGLTJUwWmQ"
      },
      "execution_count": null,
      "outputs": []
    },
    {
      "cell_type": "code",
      "source": [
        "personalize_runtime = boto3.client('personalize-runtime',region_name='us-west-2')"
      ],
      "metadata": {
        "id": "ewSIIHj1bo-X"
      },
      "execution_count": null,
      "outputs": []
    },
    {
      "cell_type": "code",
      "source": [
        "bucket = \"255movie\"\n",
        "filename = \"movies.csv\""
      ],
      "metadata": {
        "id": "ve1gqbMnxLrh"
      },
      "execution_count": null,
      "outputs": []
    },
    {
      "cell_type": "code",
      "source": [
        "!wget -N http://files.grouplens.org/datasets/movielens/ml-20m.zip\n",
        "!unzip -o ml-20m.zip\n",
        "data = pd.read_csv('./ml-20m/ratings.csv', sep=',', dtype={'userid': \"int64\", 'movieid': \"int64\", 'rating': \"float64\", 'timestamp': \"int64\"})\n",
        "pd.set_option('display.max_rows', 25)\n",
        "data.rename(columns = {'userId':'USER_ID','movieId':'ITEM_ID','rating':'RATING','timestamp':'TIMESTAMP'}, inplace = True)\n",
        "data"
      ],
      "metadata": {
        "colab": {
          "base_uri": "https://localhost:8080/",
          "height": 666
        },
        "id": "KaLrOtW-xged",
        "outputId": "5db796ad-219e-411c-dc38-1b8245565943"
      },
      "execution_count": null,
      "outputs": [
        {
          "output_type": "stream",
          "name": "stdout",
          "text": [
            "--2021-12-11 00:40:39--  http://files.grouplens.org/datasets/movielens/ml-20m.zip\n",
            "Resolving files.grouplens.org (files.grouplens.org)... 128.101.65.152\n",
            "Connecting to files.grouplens.org (files.grouplens.org)|128.101.65.152|:80... connected.\n",
            "HTTP request sent, awaiting response... 304 Not Modified\n",
            "File ‘ml-20m.zip’ not modified on server. Omitting download.\n",
            "\n",
            "Archive:  ml-20m.zip\n",
            "  inflating: ml-20m/genome-scores.csv  \n",
            "  inflating: ml-20m/genome-tags.csv  \n",
            "  inflating: ml-20m/links.csv        \n",
            "  inflating: ml-20m/movies.csv       \n",
            "  inflating: ml-20m/ratings.csv      \n",
            "  inflating: ml-20m/README.txt       \n",
            "  inflating: ml-20m/tags.csv         \n"
          ]
        },
        {
          "output_type": "execute_result",
          "data": {
            "text/html": [
              "<div>\n",
              "<style scoped>\n",
              "    .dataframe tbody tr th:only-of-type {\n",
              "        vertical-align: middle;\n",
              "    }\n",
              "\n",
              "    .dataframe tbody tr th {\n",
              "        vertical-align: top;\n",
              "    }\n",
              "\n",
              "    .dataframe thead th {\n",
              "        text-align: right;\n",
              "    }\n",
              "</style>\n",
              "<table border=\"1\" class=\"dataframe\">\n",
              "  <thead>\n",
              "    <tr style=\"text-align: right;\">\n",
              "      <th></th>\n",
              "      <th>USER_ID</th>\n",
              "      <th>ITEM_ID</th>\n",
              "      <th>RATING</th>\n",
              "      <th>TIMESTAMP</th>\n",
              "    </tr>\n",
              "  </thead>\n",
              "  <tbody>\n",
              "    <tr>\n",
              "      <th>0</th>\n",
              "      <td>1</td>\n",
              "      <td>2</td>\n",
              "      <td>3.5</td>\n",
              "      <td>1112486027</td>\n",
              "    </tr>\n",
              "    <tr>\n",
              "      <th>1</th>\n",
              "      <td>1</td>\n",
              "      <td>29</td>\n",
              "      <td>3.5</td>\n",
              "      <td>1112484676</td>\n",
              "    </tr>\n",
              "    <tr>\n",
              "      <th>2</th>\n",
              "      <td>1</td>\n",
              "      <td>32</td>\n",
              "      <td>3.5</td>\n",
              "      <td>1112484819</td>\n",
              "    </tr>\n",
              "    <tr>\n",
              "      <th>3</th>\n",
              "      <td>1</td>\n",
              "      <td>47</td>\n",
              "      <td>3.5</td>\n",
              "      <td>1112484727</td>\n",
              "    </tr>\n",
              "    <tr>\n",
              "      <th>4</th>\n",
              "      <td>1</td>\n",
              "      <td>50</td>\n",
              "      <td>3.5</td>\n",
              "      <td>1112484580</td>\n",
              "    </tr>\n",
              "    <tr>\n",
              "      <th>...</th>\n",
              "      <td>...</td>\n",
              "      <td>...</td>\n",
              "      <td>...</td>\n",
              "      <td>...</td>\n",
              "    </tr>\n",
              "    <tr>\n",
              "      <th>20000258</th>\n",
              "      <td>138493</td>\n",
              "      <td>68954</td>\n",
              "      <td>4.5</td>\n",
              "      <td>1258126920</td>\n",
              "    </tr>\n",
              "    <tr>\n",
              "      <th>20000259</th>\n",
              "      <td>138493</td>\n",
              "      <td>69526</td>\n",
              "      <td>4.5</td>\n",
              "      <td>1259865108</td>\n",
              "    </tr>\n",
              "    <tr>\n",
              "      <th>20000260</th>\n",
              "      <td>138493</td>\n",
              "      <td>69644</td>\n",
              "      <td>3.0</td>\n",
              "      <td>1260209457</td>\n",
              "    </tr>\n",
              "    <tr>\n",
              "      <th>20000261</th>\n",
              "      <td>138493</td>\n",
              "      <td>70286</td>\n",
              "      <td>5.0</td>\n",
              "      <td>1258126944</td>\n",
              "    </tr>\n",
              "    <tr>\n",
              "      <th>20000262</th>\n",
              "      <td>138493</td>\n",
              "      <td>71619</td>\n",
              "      <td>2.5</td>\n",
              "      <td>1255811136</td>\n",
              "    </tr>\n",
              "  </tbody>\n",
              "</table>\n",
              "<p>20000263 rows × 4 columns</p>\n",
              "</div>"
            ],
            "text/plain": [
              "          USER_ID  ITEM_ID  RATING   TIMESTAMP\n",
              "0               1        2     3.5  1112486027\n",
              "1               1       29     3.5  1112484676\n",
              "2               1       32     3.5  1112484819\n",
              "3               1       47     3.5  1112484727\n",
              "4               1       50     3.5  1112484580\n",
              "...           ...      ...     ...         ...\n",
              "20000258   138493    68954     4.5  1258126920\n",
              "20000259   138493    69526     4.5  1259865108\n",
              "20000260   138493    69644     3.0  1260209457\n",
              "20000261   138493    70286     5.0  1258126944\n",
              "20000262   138493    71619     2.5  1255811136\n",
              "\n",
              "[20000263 rows x 4 columns]"
            ]
          },
          "metadata": {},
          "execution_count": 72
        }
      ]
    },
    {
      "cell_type": "code",
      "source": [
        "data = data[data['RATING'] > 3.6] \n",
        "data = data[['USER_ID', 'ITEM_ID', 'TIMESTAMP']]\n",
        "data.to_csv(filename, index=False)\n",
        "boto3.Session().resource('s3').Bucket(bucket).Object(filename).upload_file(filename)"
      ],
      "metadata": {
        "id": "PRJTa_UVyJ5y"
      },
      "execution_count": null,
      "outputs": []
    },
    {
      "cell_type": "code",
      "source": [
        "schema = {\n",
        "    \"type\": \"record\",\n",
        "    \"name\": \"Interactions\",\n",
        "    \"namespace\": \"com.amazonaws.personalize.schema\",\n",
        "    \"fields\": [\n",
        "        {\n",
        "            \"name\": \"USER_ID\",\n",
        "            \"type\": \"string\"\n",
        "        },\n",
        "        {\n",
        "            \"name\": \"ITEM_ID\",\n",
        "            \"type\": \"string\"\n",
        "        },\n",
        "        {\n",
        "            \"name\": \"TIMESTAMP\",\n",
        "            \"type\": \"long\"\n",
        "        }\n",
        "    ],\n",
        "    \"version\": \"1.0\"\n",
        "}\n",
        "\n"
      ],
      "metadata": {
        "id": "ECwfrRl73Yyq"
      },
      "execution_count": null,
      "outputs": []
    },
    {
      "cell_type": "code",
      "source": [
        "create_schema_response = personalize.create_schema(\n",
        "    name = \"DEMO-schema\",\n",
        "    schema = json.dumps(schema)\n",
        ")\n",
        "\n",
        "schema_arn = create_schema_response['schemaArn']\n",
        "print(json.dumps(create_schema_response, indent=2))"
      ],
      "metadata": {
        "colab": {
          "base_uri": "https://localhost:8080/"
        },
        "id": "zY0_CYfY7i7A",
        "outputId": "0a26156c-a606-41a4-c17d-c4197cf19cc7"
      },
      "execution_count": null,
      "outputs": [
        {
          "output_type": "stream",
          "name": "stdout",
          "text": [
            "{\n",
            "  \"schemaArn\": \"arn:aws:personalize:us-west-2:332571597467:schema/DEMO-schema\",\n",
            "  \"ResponseMetadata\": {\n",
            "    \"RequestId\": \"5b90af55-0c76-4f88-bff8-aabd946d86ee\",\n",
            "    \"HTTPStatusCode\": 200,\n",
            "    \"HTTPHeaders\": {\n",
            "      \"content-type\": \"application/x-amz-json-1.1\",\n",
            "      \"date\": \"Sat, 11 Dec 2021 00:50:24 GMT\",\n",
            "      \"x-amzn-requestid\": \"5b90af55-0c76-4f88-bff8-aabd946d86ee\",\n",
            "      \"content-length\": \"77\",\n",
            "      \"connection\": \"keep-alive\"\n",
            "    },\n",
            "    \"RetryAttempts\": 0\n",
            "  }\n",
            "}\n"
          ]
        }
      ]
    },
    {
      "cell_type": "code",
      "source": [
        "create_dataset_group_response = personalize.create_dataset_group(\n",
        "    name = \"DEMO-dataset-group\"\n",
        ")\n",
        "\n",
        "dataset_group_arn = create_dataset_group_response['datasetGroupArn']\n",
        "print(json.dumps(create_dataset_group_response, indent=2))"
      ],
      "metadata": {
        "colab": {
          "base_uri": "https://localhost:8080/"
        },
        "id": "ULRhChcF-K_2",
        "outputId": "8be531c2-caa1-4514-d33d-5de00ce29185"
      },
      "execution_count": null,
      "outputs": [
        {
          "output_type": "stream",
          "name": "stdout",
          "text": [
            "{\n",
            "  \"datasetGroupArn\": \"arn:aws:personalize:us-west-2:332571597467:dataset-group/DEMO-dataset-group\",\n",
            "  \"ResponseMetadata\": {\n",
            "    \"RequestId\": \"a1ef6539-fead-4910-9fec-7ec05b6a6f6a\",\n",
            "    \"HTTPStatusCode\": 200,\n",
            "    \"HTTPHeaders\": {\n",
            "      \"content-type\": \"application/x-amz-json-1.1\",\n",
            "      \"date\": \"Sat, 11 Dec 2021 00:50:56 GMT\",\n",
            "      \"x-amzn-requestid\": \"a1ef6539-fead-4910-9fec-7ec05b6a6f6a\",\n",
            "      \"content-length\": \"97\",\n",
            "      \"connection\": \"keep-alive\"\n",
            "    },\n",
            "    \"RetryAttempts\": 0\n",
            "  }\n",
            "}\n"
          ]
        }
      ]
    },
    {
      "cell_type": "code",
      "source": [
        "max_time = time.time() + 3*60*60 # 3 hours\n",
        "while time.time() < max_time:\n",
        "    describe_dataset_group_response = personalize.describe_dataset_group(\n",
        "        datasetGroupArn = dataset_group_arn\n",
        "    )\n",
        "    status = describe_dataset_group_response[\"datasetGroup\"][\"status\"]\n",
        "    print(\"DatasetGroup: {}\".format(status))\n",
        "    \n",
        "    if status == \"ACTIVE\" or status == \"CREATE FAILED\":\n",
        "        break\n",
        "        \n",
        "    time.sleep(60)"
      ],
      "metadata": {
        "colab": {
          "base_uri": "https://localhost:8080/"
        },
        "id": "9208awN0-MC_",
        "outputId": "7f47d67e-2e0e-4fc6-babf-10f1120df178"
      },
      "execution_count": null,
      "outputs": [
        {
          "output_type": "stream",
          "name": "stdout",
          "text": [
            "DatasetGroup: ACTIVE\n"
          ]
        }
      ]
    },
    {
      "cell_type": "code",
      "source": [
        "dataset_type = \"INTERACTIONS\"\n",
        "create_dataset_response = personalize.create_dataset(\n",
        "    name = \"DEMO-dataset\",\n",
        "    datasetType = dataset_type,\n",
        "    datasetGroupArn = dataset_group_arn,\n",
        "    schemaArn = schema_arn\n",
        ")\n",
        "\n",
        "dataset_arn = create_dataset_response['datasetArn']\n",
        "print(json.dumps(create_dataset_response, indent=2))"
      ],
      "metadata": {
        "colab": {
          "base_uri": "https://localhost:8080/"
        },
        "id": "UkO34D2u-P1S",
        "outputId": "4fd66e54-2128-4a42-e21b-d83cb93d6c00"
      },
      "execution_count": null,
      "outputs": [
        {
          "output_type": "stream",
          "name": "stdout",
          "text": [
            "{\n",
            "  \"datasetArn\": \"arn:aws:personalize:us-west-2:332571597467:dataset/DEMO-dataset-group/INTERACTIONS\",\n",
            "  \"ResponseMetadata\": {\n",
            "    \"RequestId\": \"b3b3e5a9-6e40-40a7-8c23-17ff14b4e52d\",\n",
            "    \"HTTPStatusCode\": 200,\n",
            "    \"HTTPHeaders\": {\n",
            "      \"content-type\": \"application/x-amz-json-1.1\",\n",
            "      \"date\": \"Sat, 11 Dec 2021 00:51:15 GMT\",\n",
            "      \"x-amzn-requestid\": \"b3b3e5a9-6e40-40a7-8c23-17ff14b4e52d\",\n",
            "      \"content-length\": \"99\",\n",
            "      \"connection\": \"keep-alive\"\n",
            "    },\n",
            "    \"RetryAttempts\": 0\n",
            "  }\n",
            "}\n"
          ]
        }
      ]
    },
    {
      "cell_type": "code",
      "source": [
        "s3 = boto3.client(\"s3\",region_name='us-west-2')\n",
        "\n",
        "policy = {\n",
        "    \"Version\": \"2012-10-17\",\n",
        "    \"Id\": \"PersonalizeS3BucketAccessPolicy\",\n",
        "    \"Statement\": [\n",
        "        {\n",
        "            \"Sid\": \"PersonalizeS3BucketAccessPolicy\",\n",
        "            \"Effect\": \"Allow\",\n",
        "            \"Principal\": {\n",
        "                \"Service\": \"personalize.amazonaws.com\"\n",
        "            },\n",
        "            \"Action\": [\n",
        "                \"s3:GetObject\",\n",
        "                \"s3:ListBucket\"\n",
        "            ],\n",
        "            \"Resource\": [\n",
        "                \"arn:aws:s3:::{}\".format(bucket),\n",
        "                \"arn:aws:s3:::{}/*\".format(bucket)\n",
        "            ]\n",
        "        }\n",
        "    ]\n",
        "}\n",
        "\n",
        "s3.put_bucket_policy(Bucket=bucket, Policy=json.dumps(policy))"
      ],
      "metadata": {
        "colab": {
          "base_uri": "https://localhost:8080/"
        },
        "id": "y8jGP-_G-SZK",
        "outputId": "1de1253c-06ef-4240-a8ee-b4fb52804e9e"
      },
      "execution_count": null,
      "outputs": [
        {
          "output_type": "execute_result",
          "data": {
            "text/plain": [
              "{'ResponseMetadata': {'HTTPHeaders': {'date': 'Sat, 11 Dec 2021 00:51:55 GMT',\n",
              "   'server': 'AmazonS3',\n",
              "   'x-amz-id-2': '3xk4yWKLJjaOX/I/iQronRJRL56LQoZTxomJuzrlBD+gfEko4hbNUWkYlJIK29lhpw1zrn0ipBY=',\n",
              "   'x-amz-request-id': 'C2ZRNPJZGWCGNRWF'},\n",
              "  'HTTPStatusCode': 204,\n",
              "  'HostId': '3xk4yWKLJjaOX/I/iQronRJRL56LQoZTxomJuzrlBD+gfEko4hbNUWkYlJIK29lhpw1zrn0ipBY=',\n",
              "  'RequestId': 'C2ZRNPJZGWCGNRWF',\n",
              "  'RetryAttempts': 1}}"
            ]
          },
          "metadata": {},
          "execution_count": 90
        }
      ]
    },
    {
      "cell_type": "code",
      "source": [
        "iam = boto3.client(\"iam\",region_name='us-west-2')\n",
        "\n",
        "role_name = \"PersonalizeRole\"\n",
        "assume_role_policy_document = {\n",
        "    \"Version\": \"2012-10-17\",\n",
        "    \"Statement\": [\n",
        "        {\n",
        "          \"Effect\": \"Allow\",\n",
        "          \"Principal\": {\n",
        "            \"Service\": \"personalize.amazonaws.com\"\n",
        "          },\n",
        "          \"Action\": \"sts:AssumeRole\"\n",
        "        }\n",
        "    ]\n",
        "}\n",
        "\n",
        "create_role_response = iam.create_role(\n",
        "    RoleName = role_name,\n",
        "    AssumeRolePolicyDocument = json.dumps(assume_role_policy_document)\n",
        ")\n",
        "\n",
        "# AmazonPersonalizeFullAccess provides access to any S3 bucket with a name that includes \"personalize\" or \"Personalize\" \n",
        "# if you would like to use a bucket with a different name, please consider creating and attaching a new policy\n",
        "# that provides read access to your bucket or attaching the AmazonS3ReadOnlyAccess policy to the role\n",
        "policy_arn = \"arn:aws:iam::aws:policy/service-role/AmazonPersonalizeFullAccess\"\n",
        "iam.attach_role_policy(\n",
        "    RoleName = role_name,\n",
        "    PolicyArn = 'arn:aws:iam::aws:policy/service-role/AmazonPersonalizeFullAccess'\n",
        ")\n",
        "\n",
        "time.sleep(60) # wait for a minute to allow IAM role policy attachment to propagate\n",
        "\n",
        "role_arn = create_role_response[\"Role\"][\"Arn\"]\n",
        "print(role_arn)"
      ],
      "metadata": {
        "colab": {
          "base_uri": "https://localhost:8080/"
        },
        "id": "FEXUzo1b-aLB",
        "outputId": "3a76e581-2608-49ab-d560-57aa808545c4"
      },
      "execution_count": null,
      "outputs": [
        {
          "output_type": "stream",
          "name": "stdout",
          "text": [
            "arn:aws:iam::332571597467:role/PersonalizeRole\n"
          ]
        }
      ]
    },
    {
      "cell_type": "code",
      "source": [
        "create_dataset_import_job_response = personalize.create_dataset_import_job(\n",
        "    jobName = \"DEMO-dataset-import-job\",\n",
        "    datasetArn = dataset_arn,\n",
        "    dataSource = {\n",
        "        \"dataLocation\": \"s3://{}/{}\".format(bucket, filename)\n",
        "    },\n",
        "    roleArn = 'arn:aws:iam::332571597467:role/PersonalizeRole'\n",
        ")\n",
        "\n",
        "dataset_import_job_arn = create_dataset_import_job_response['datasetImportJobArn']\n",
        "print(json.dumps(create_dataset_import_job_response, indent=2))"
      ],
      "metadata": {
        "colab": {
          "base_uri": "https://localhost:8080/"
        },
        "id": "-HMHr-lx_OS1",
        "outputId": "64047857-8446-4998-d27f-31ee6a486614"
      },
      "execution_count": null,
      "outputs": [
        {
          "output_type": "stream",
          "name": "stdout",
          "text": [
            "{\n",
            "  \"datasetImportJobArn\": \"arn:aws:personalize:us-west-2:332571597467:dataset-import-job/DEMO-dataset-import-job\",\n",
            "  \"ResponseMetadata\": {\n",
            "    \"RequestId\": \"0e41e060-bdc8-4530-a552-d2f808290e23\",\n",
            "    \"HTTPStatusCode\": 200,\n",
            "    \"HTTPHeaders\": {\n",
            "      \"content-type\": \"application/x-amz-json-1.1\",\n",
            "      \"date\": \"Sat, 11 Dec 2021 01:03:11 GMT\",\n",
            "      \"x-amzn-requestid\": \"0e41e060-bdc8-4530-a552-d2f808290e23\",\n",
            "      \"content-length\": \"111\",\n",
            "      \"connection\": \"keep-alive\"\n",
            "    },\n",
            "    \"RetryAttempts\": 0\n",
            "  }\n",
            "}\n"
          ]
        }
      ]
    },
    {
      "cell_type": "code",
      "source": [
        "max_time = time.time() + 3*60*60 # 3 hours\n",
        "while time.time() < max_time:\n",
        "    describe_dataset_import_job_response = personalize.describe_dataset_import_job(\n",
        "        datasetImportJobArn = dataset_import_job_arn\n",
        "    )\n",
        "    status = describe_dataset_import_job_response[\"datasetImportJob\"]['status']\n",
        "    print(\"DatasetImportJob: {}\".format(status))\n",
        "    \n",
        "    if status == \"ACTIVE\" or status == \"CREATE FAILED\":\n",
        "        break\n",
        "        \n",
        "    time.sleep(60)"
      ],
      "metadata": {
        "colab": {
          "base_uri": "https://localhost:8080/"
        },
        "id": "qMvVGJRW-xW_",
        "outputId": "9b351e56-870c-4758-e70d-110adc00faa4"
      },
      "execution_count": null,
      "outputs": [
        {
          "output_type": "stream",
          "name": "stdout",
          "text": [
            "DatasetImportJob: CREATE PENDING\n",
            "DatasetImportJob: CREATE IN_PROGRESS\n",
            "DatasetImportJob: CREATE IN_PROGRESS\n",
            "DatasetImportJob: CREATE IN_PROGRESS\n",
            "DatasetImportJob: CREATE IN_PROGRESS\n",
            "DatasetImportJob: ACTIVE\n"
          ]
        }
      ]
    },
    {
      "cell_type": "code",
      "source": [
        "list_recipes_response = personalize.list_recipes()\n",
        "recipe_arn = \"arn:aws:personalize:::recipe/aws-hrnn\" # aws-hrnn selected for demo purposes\n",
        "list_recipes_response"
      ],
      "metadata": {
        "colab": {
          "base_uri": "https://localhost:8080/"
        },
        "id": "DdqO9Jsl-8G3",
        "outputId": "6b879a7f-c2bb-4337-83b1-479ff58dba3d"
      },
      "execution_count": null,
      "outputs": [
        {
          "output_type": "execute_result",
          "data": {
            "text/plain": [
              "{'ResponseMetadata': {'HTTPHeaders': {'connection': 'keep-alive',\n",
              "   'content-length': '3735',\n",
              "   'content-type': 'application/x-amz-json-1.1',\n",
              "   'date': 'Sat, 11 Dec 2021 00:54:18 GMT',\n",
              "   'x-amzn-requestid': '086aa7e7-f8b4-43e0-8e41-33a6e53c6f6a'},\n",
              "  'HTTPStatusCode': 200,\n",
              "  'RequestId': '086aa7e7-f8b4-43e0-8e41-33a6e53c6f6a',\n",
              "  'RetryAttempts': 0},\n",
              " 'nextToken': 'AYADeE5C54pXhhVI2OGhKLnq0bwAXwABABVhd3MtY3J5cHRvLXB1YmxpYy1rZXkAREFyc2hESm5Dc1kvdERjZUxDYVg4UzZseExCWWhCL0tLVWZFakJGclhhZ3ExN1NCdW1SWjdkbEJobzdsZ1EvWDVyUT09AAEAB2F3cy1rbXMAS2Fybjphd3M6a21zOnVzLXdlc3QtMjo2MDI0NDY3NTc1Nzk6a2V5L2YzZDcwOGM3LWYxMTctNGIyYi1hMTA5LWMxMzg2YzNkOTlkYgC4AQIBAHg0rvLpwtlSGYfQK/DAtr8RXDNOB93tMwdSQOZ5E4BI2AEo63grDJFrDJ4sEpEQsGVTAAAAfjB8BgkqhkiG9w0BBwagbzBtAgEAMGgGCSqGSIb3DQEHATAeBglghkgBZQMEAS4wEQQMAT6cYI7EXVuPnNFcAgEQgDtJgDIBulhabYZePudVf2lHWKXF/o7p3wbyWlCixTDvjFhZU4riAWh87bd2Byekm39c1iQ1BtERK2dUbwIAAAAADAAAEAAAAAAAAAAAAAAAAABxsLYw3dq3ETPYp2Kz+1IB/////wAAAAEAAAAAAAAAAAAAAAEAAABz7slq+gYmPGJ4XP9GTMoewap9GDpuRosg1N0dSDBY4ksoenzCk0ZQTUq/vgUiD69mhkk5K4Ez9GgYJyLw26/JHLB4fCzQ/eE9V5o6LFek8ST6bjZnYycZQjQEawYiqLL3BJ/CARSwf54gu0hzy54W0wGQ12stNQN8uhPT4lA1pzVMruIAZzBlAjEAijA3WIsUPy0grlRfJF3j3pjCD4aj0V1rhMeHu62439LyulBOmApXqRMyc1g0nfKAAjBjWsZ4GN3OlkYQmWZ0aF1895MUt1VzjfnbBx9D2WxOp8fExeXANcfb0pNKc3J3fGU=',\n",
              " 'recipes': [{'creationDateTime': datetime.datetime(2019, 6, 10, 0, 0, tzinfo=tzlocal()),\n",
              "   'domain': 'ECOMMERCE',\n",
              "   'lastUpdatedDateTime': datetime.datetime(2021, 11, 22, 15, 9, 21, 58000, tzinfo=tzlocal()),\n",
              "   'name': 'aws-ecomm-customers-who-viewed-x-also-viewed',\n",
              "   'recipeArn': 'arn:aws:personalize:::recipe/aws-ecomm-customers-who-viewed-x-also-viewed',\n",
              "   'status': 'ACTIVE'},\n",
              "  {'creationDateTime': datetime.datetime(2019, 6, 10, 0, 0, tzinfo=tzlocal()),\n",
              "   'domain': 'ECOMMERCE',\n",
              "   'lastUpdatedDateTime': datetime.datetime(2021, 11, 22, 15, 9, 21, 58000, tzinfo=tzlocal()),\n",
              "   'name': 'aws-ecomm-frequently-bought-together',\n",
              "   'recipeArn': 'arn:aws:personalize:::recipe/aws-ecomm-frequently-bought-together',\n",
              "   'status': 'ACTIVE'},\n",
              "  {'creationDateTime': datetime.datetime(2019, 6, 10, 0, 0, tzinfo=tzlocal()),\n",
              "   'domain': 'ECOMMERCE',\n",
              "   'lastUpdatedDateTime': datetime.datetime(2021, 11, 22, 15, 9, 21, 58000, tzinfo=tzlocal()),\n",
              "   'name': 'aws-ecomm-popular-items-by-purchases',\n",
              "   'recipeArn': 'arn:aws:personalize:::recipe/aws-ecomm-popular-items-by-purchases',\n",
              "   'status': 'ACTIVE'},\n",
              "  {'creationDateTime': datetime.datetime(2019, 6, 10, 0, 0, tzinfo=tzlocal()),\n",
              "   'domain': 'ECOMMERCE',\n",
              "   'lastUpdatedDateTime': datetime.datetime(2021, 11, 22, 15, 9, 21, 58000, tzinfo=tzlocal()),\n",
              "   'name': 'aws-ecomm-popular-items-by-views',\n",
              "   'recipeArn': 'arn:aws:personalize:::recipe/aws-ecomm-popular-items-by-views',\n",
              "   'status': 'ACTIVE'},\n",
              "  {'creationDateTime': datetime.datetime(2019, 6, 10, 0, 0, tzinfo=tzlocal()),\n",
              "   'domain': 'ECOMMERCE',\n",
              "   'lastUpdatedDateTime': datetime.datetime(2021, 11, 22, 15, 9, 21, 58000, tzinfo=tzlocal()),\n",
              "   'name': 'aws-ecomm-recommended-for-you',\n",
              "   'recipeArn': 'arn:aws:personalize:::recipe/aws-ecomm-recommended-for-you',\n",
              "   'status': 'ACTIVE'},\n",
              "  {'creationDateTime': datetime.datetime(2019, 6, 10, 0, 0, tzinfo=tzlocal()),\n",
              "   'lastUpdatedDateTime': datetime.datetime(2021, 11, 22, 15, 9, 21, 58000, tzinfo=tzlocal()),\n",
              "   'name': 'aws-hrnn',\n",
              "   'recipeArn': 'arn:aws:personalize:::recipe/aws-hrnn',\n",
              "   'status': 'ACTIVE'},\n",
              "  {'creationDateTime': datetime.datetime(2019, 6, 10, 0, 0, tzinfo=tzlocal()),\n",
              "   'lastUpdatedDateTime': datetime.datetime(2021, 11, 22, 15, 9, 21, 58000, tzinfo=tzlocal()),\n",
              "   'name': 'aws-hrnn-coldstart',\n",
              "   'recipeArn': 'arn:aws:personalize:::recipe/aws-hrnn-coldstart',\n",
              "   'status': 'ACTIVE'},\n",
              "  {'creationDateTime': datetime.datetime(2019, 6, 10, 0, 0, tzinfo=tzlocal()),\n",
              "   'lastUpdatedDateTime': datetime.datetime(2021, 11, 22, 15, 9, 21, 58000, tzinfo=tzlocal()),\n",
              "   'name': 'aws-hrnn-metadata',\n",
              "   'recipeArn': 'arn:aws:personalize:::recipe/aws-hrnn-metadata',\n",
              "   'status': 'ACTIVE'},\n",
              "  {'creationDateTime': datetime.datetime(2021, 7, 15, 0, 0, tzinfo=tzlocal()),\n",
              "   'lastUpdatedDateTime': datetime.datetime(2021, 11, 22, 15, 9, 21, 58000, tzinfo=tzlocal()),\n",
              "   'name': 'aws-item-affinity',\n",
              "   'recipeArn': 'arn:aws:personalize:::recipe/aws-item-affinity',\n",
              "   'status': 'ACTIVE'},\n",
              "  {'creationDateTime': datetime.datetime(2021, 8, 25, 0, 0, tzinfo=tzlocal()),\n",
              "   'lastUpdatedDateTime': datetime.datetime(2021, 11, 22, 15, 9, 21, 58000, tzinfo=tzlocal()),\n",
              "   'name': 'aws-item-attribute-affinity',\n",
              "   'recipeArn': 'arn:aws:personalize:::recipe/aws-item-attribute-affinity',\n",
              "   'status': 'ACTIVE'},\n",
              "  {'creationDateTime': datetime.datetime(2019, 6, 10, 0, 0, tzinfo=tzlocal()),\n",
              "   'lastUpdatedDateTime': datetime.datetime(2021, 11, 22, 15, 9, 21, 58000, tzinfo=tzlocal()),\n",
              "   'name': 'aws-personalized-ranking',\n",
              "   'recipeArn': 'arn:aws:personalize:::recipe/aws-personalized-ranking',\n",
              "   'status': 'ACTIVE'},\n",
              "  {'creationDateTime': datetime.datetime(2019, 6, 10, 0, 0, tzinfo=tzlocal()),\n",
              "   'lastUpdatedDateTime': datetime.datetime(2021, 11, 22, 15, 9, 21, 58000, tzinfo=tzlocal()),\n",
              "   'name': 'aws-popularity-count',\n",
              "   'recipeArn': 'arn:aws:personalize:::recipe/aws-popularity-count',\n",
              "   'status': 'ACTIVE'},\n",
              "  {'creationDateTime': datetime.datetime(2019, 6, 10, 0, 0, tzinfo=tzlocal()),\n",
              "   'lastUpdatedDateTime': datetime.datetime(2021, 11, 22, 15, 9, 21, 58000, tzinfo=tzlocal()),\n",
              "   'name': 'aws-similar-items',\n",
              "   'recipeArn': 'arn:aws:personalize:::recipe/aws-similar-items',\n",
              "   'status': 'ACTIVE'},\n",
              "  {'creationDateTime': datetime.datetime(2019, 6, 10, 0, 0, tzinfo=tzlocal()),\n",
              "   'lastUpdatedDateTime': datetime.datetime(2021, 11, 22, 15, 9, 21, 58000, tzinfo=tzlocal()),\n",
              "   'name': 'aws-sims',\n",
              "   'recipeArn': 'arn:aws:personalize:::recipe/aws-sims',\n",
              "   'status': 'ACTIVE'}]}"
            ]
          },
          "metadata": {},
          "execution_count": 94
        }
      ]
    },
    {
      "cell_type": "code",
      "source": [
        "create_solution_response = personalize.create_solution(\n",
        "    name = \"DEMO-solution\",\n",
        "    datasetGroupArn = dataset_group_arn,\n",
        "    recipeArn = recipe_arn\n",
        ")\n",
        "\n",
        "solution_arn = create_solution_response['solutionArn']\n",
        "print(json.dumps(create_solution_response, indent=2))"
      ],
      "metadata": {
        "colab": {
          "base_uri": "https://localhost:8080/"
        },
        "id": "7Uh9jz8j-_Ca",
        "outputId": "dbbf45f0-5f8e-4c0e-d3f9-8cac4bb28ddc"
      },
      "execution_count": null,
      "outputs": [
        {
          "output_type": "stream",
          "name": "stdout",
          "text": [
            "{\n",
            "  \"solutionArn\": \"arn:aws:personalize:us-west-2:332571597467:solution/DEMO-solution\",\n",
            "  \"ResponseMetadata\": {\n",
            "    \"RequestId\": \"87d9f143-153c-4941-a68c-a92cf4a83023\",\n",
            "    \"HTTPStatusCode\": 200,\n",
            "    \"HTTPHeaders\": {\n",
            "      \"content-type\": \"application/x-amz-json-1.1\",\n",
            "      \"date\": \"Sat, 11 Dec 2021 01:08:53 GMT\",\n",
            "      \"x-amzn-requestid\": \"87d9f143-153c-4941-a68c-a92cf4a83023\",\n",
            "      \"content-length\": \"83\",\n",
            "      \"connection\": \"keep-alive\"\n",
            "    },\n",
            "    \"RetryAttempts\": 0\n",
            "  }\n",
            "}\n"
          ]
        }
      ]
    },
    {
      "cell_type": "code",
      "source": [
        "create_solution_version_response = personalize.create_solution_version(\n",
        "    solutionArn = solution_arn\n",
        ")\n",
        "\n",
        "solution_version_arn = create_solution_version_response['solutionVersionArn']\n",
        "print(json.dumps(create_solution_version_response, indent=2))"
      ],
      "metadata": {
        "colab": {
          "base_uri": "https://localhost:8080/"
        },
        "id": "DnrRlkV6CX5G",
        "outputId": "937cab5c-7738-4284-d002-519ea300c509"
      },
      "execution_count": null,
      "outputs": [
        {
          "output_type": "stream",
          "name": "stdout",
          "text": [
            "{\n",
            "  \"solutionVersionArn\": \"arn:aws:personalize:us-west-2:332571597467:solution/DEMO-solution/a2f9aba5\",\n",
            "  \"ResponseMetadata\": {\n",
            "    \"RequestId\": \"a30f192a-771c-410a-95d3-46a6ab1c0f2d\",\n",
            "    \"HTTPStatusCode\": 200,\n",
            "    \"HTTPHeaders\": {\n",
            "      \"content-type\": \"application/x-amz-json-1.1\",\n",
            "      \"date\": \"Sat, 11 Dec 2021 01:51:40 GMT\",\n",
            "      \"x-amzn-requestid\": \"a30f192a-771c-410a-95d3-46a6ab1c0f2d\",\n",
            "      \"content-length\": \"99\",\n",
            "      \"connection\": \"keep-alive\"\n",
            "    },\n",
            "    \"RetryAttempts\": 0\n",
            "  }\n",
            "}\n"
          ]
        }
      ]
    },
    {
      "cell_type": "code",
      "source": [
        "max_time = time.time() + 3*60*60 # 3 hours\n",
        "while time.time() < max_time:\n",
        "  describe_solution_version_response = personalize.describe_solution_version(\n",
        "    solutionVersionArn = solution_version_arn\n",
        "    )\n",
        "  status = describe_solution_version_response[\"solutionVersion\"][\"status\"]\n",
        "  print(\"SolutionVersion: {}\".format(status))\n",
        "\n",
        "  if status == \"ACTIVE\" or status == \"CREATE FAILED\":\n",
        "    break\n",
        "        \n",
        "  time.sleep(60)"
      ],
      "metadata": {
        "colab": {
          "base_uri": "https://localhost:8080/"
        },
        "id": "LnUS71sNCZx2",
        "outputId": "6eba0deb-988c-4553-da13-2d62c46824d8"
      },
      "execution_count": null,
      "outputs": [
        {
          "output_type": "stream",
          "name": "stdout",
          "text": [
            "SolutionVersion: CREATE IN_PROGRESS\n",
            "SolutionVersion: CREATE IN_PROGRESS\n",
            "SolutionVersion: CREATE IN_PROGRESS\n",
            "SolutionVersion: CREATE IN_PROGRESS\n",
            "SolutionVersion: CREATE IN_PROGRESS\n",
            "SolutionVersion: CREATE IN_PROGRESS\n",
            "SolutionVersion: CREATE IN_PROGRESS\n",
            "SolutionVersion: CREATE IN_PROGRESS\n",
            "SolutionVersion: CREATE IN_PROGRESS\n",
            "SolutionVersion: CREATE IN_PROGRESS\n",
            "SolutionVersion: CREATE IN_PROGRESS\n",
            "SolutionVersion: CREATE IN_PROGRESS\n",
            "SolutionVersion: CREATE IN_PROGRESS\n",
            "SolutionVersion: CREATE IN_PROGRESS\n",
            "SolutionVersion: CREATE IN_PROGRESS\n",
            "SolutionVersion: ACTIVE\n"
          ]
        }
      ]
    },
    {
      "cell_type": "code",
      "source": [
        "get_solution_metrics_response = personalize.get_solution_metrics(\n",
        "    solutionVersionArn = solution_version_arn\n",
        ")\n",
        "\n",
        "print(json.dumps(get_solution_metrics_response, indent=2))"
      ],
      "metadata": {
        "colab": {
          "base_uri": "https://localhost:8080/"
        },
        "id": "9PCYCtQqTb0C",
        "outputId": "206d329d-4568-4091-f457-f2eef143212a"
      },
      "execution_count": null,
      "outputs": [
        {
          "output_type": "stream",
          "name": "stdout",
          "text": [
            "{\n",
            "  \"solutionVersionArn\": \"arn:aws:personalize:us-west-2:332571597467:solution/DEMO-solution/a2f9aba5\",\n",
            "  \"metrics\": {\n",
            "    \"coverage\": 0.2244,\n",
            "    \"mean_reciprocal_rank_at_25\": 0.1915,\n",
            "    \"normalized_discounted_cumulative_gain_at_10\": 0.2045,\n",
            "    \"normalized_discounted_cumulative_gain_at_25\": 0.2752,\n",
            "    \"normalized_discounted_cumulative_gain_at_5\": 0.1598,\n",
            "    \"precision_at_10\": 0.0577,\n",
            "    \"precision_at_25\": 0.0429,\n",
            "    \"precision_at_5\": 0.0693\n",
            "  },\n",
            "  \"ResponseMetadata\": {\n",
            "    \"RequestId\": \"5e0b60d9-af9c-4e5b-a827-2470539779b4\",\n",
            "    \"HTTPStatusCode\": 200,\n",
            "    \"HTTPHeaders\": {\n",
            "      \"content-type\": \"application/x-amz-json-1.1\",\n",
            "      \"date\": \"Sat, 11 Dec 2021 02:49:21 GMT\",\n",
            "      \"x-amzn-requestid\": \"5e0b60d9-af9c-4e5b-a827-2470539779b4\",\n",
            "      \"content-length\": \"397\",\n",
            "      \"connection\": \"keep-alive\"\n",
            "    },\n",
            "    \"RetryAttempts\": 0\n",
            "  }\n",
            "}\n"
          ]
        }
      ]
    },
    {
      "cell_type": "code",
      "source": [
        "create_campaign_response = personalize.create_campaign(\n",
        "    name = \"DEMO-campaign\",\n",
        "    solutionVersionArn = solution_version_arn,\n",
        "    minProvisionedTPS = 1\n",
        ")\n",
        "\n",
        "campaign_arn = create_campaign_response['campaignArn']\n",
        "print(json.dumps(create_campaign_response, indent=2))"
      ],
      "metadata": {
        "colab": {
          "base_uri": "https://localhost:8080/"
        },
        "id": "7pqMpA8fZSsX",
        "outputId": "0da5203d-bcc7-4e9c-e630-313e5e08ce3b"
      },
      "execution_count": null,
      "outputs": [
        {
          "output_type": "stream",
          "name": "stdout",
          "text": [
            "{\n",
            "  \"campaignArn\": \"arn:aws:personalize:us-west-2:332571597467:campaign/DEMO-campaign\",\n",
            "  \"ResponseMetadata\": {\n",
            "    \"RequestId\": \"d272b255-b510-49fa-8052-465ef63bd9f4\",\n",
            "    \"HTTPStatusCode\": 200,\n",
            "    \"HTTPHeaders\": {\n",
            "      \"content-type\": \"application/x-amz-json-1.1\",\n",
            "      \"date\": \"Sat, 11 Dec 2021 02:49:31 GMT\",\n",
            "      \"x-amzn-requestid\": \"d272b255-b510-49fa-8052-465ef63bd9f4\",\n",
            "      \"content-length\": \"83\",\n",
            "      \"connection\": \"keep-alive\"\n",
            "    },\n",
            "    \"RetryAttempts\": 0\n",
            "  }\n",
            "}\n"
          ]
        }
      ]
    },
    {
      "cell_type": "code",
      "source": [
        "max_time = time.time() + 3*60*60 # 3 hours\n",
        "while time.time() < max_time:\n",
        "    describe_campaign_response = personalize.describe_campaign(\n",
        "        campaignArn = campaign_arn\n",
        "    )\n",
        "    status = describe_campaign_response[\"campaign\"][\"status\"]\n",
        "    print(\"Campaign: {}\".format(status))\n",
        "    \n",
        "    if status == \"ACTIVE\" or status == \"CREATE FAILED\":\n",
        "        break\n",
        "        \n",
        "    time.sleep(60)"
      ],
      "metadata": {
        "colab": {
          "base_uri": "https://localhost:8080/"
        },
        "id": "fPAiY4mkZU5r",
        "outputId": "263a0112-6b9b-4bd5-b723-e15f3f3392ae"
      },
      "execution_count": null,
      "outputs": [
        {
          "output_type": "stream",
          "name": "stdout",
          "text": [
            "Campaign: CREATE IN_PROGRESS\n",
            "Campaign: CREATE IN_PROGRESS\n",
            "Campaign: CREATE IN_PROGRESS\n",
            "Campaign: CREATE IN_PROGRESS\n",
            "Campaign: CREATE IN_PROGRESS\n",
            "Campaign: CREATE IN_PROGRESS\n",
            "Campaign: CREATE IN_PROGRESS\n",
            "Campaign: CREATE IN_PROGRESS\n",
            "Campaign: CREATE IN_PROGRESS\n",
            "Campaign: ACTIVE\n"
          ]
        }
      ]
    },
    {
      "cell_type": "code",
      "source": [
        "items = pd.read_csv('./ml-20m/movies.csv', sep=',', usecols=[0,1], header=0)\n",
        "items.columns = ['ITEM_ID', 'TITLE']\n",
        "\n",
        "user_id, item_id, _ = data.sample().values[0]\n",
        "item_title = items.loc[items['ITEM_ID'] == item_id].values[0][-1]\n",
        "print(\"USER: {}\".format(user_id))\n",
        "print(\"ITEM: {}\".format(item_title))\n",
        "\n",
        "items"
      ],
      "metadata": {
        "colab": {
          "base_uri": "https://localhost:8080/",
          "height": 458
        },
        "id": "Y6iEcoMMbb_H",
        "outputId": "bef611d7-c05e-4a3f-85c6-e262e8a0fb28"
      },
      "execution_count": null,
      "outputs": [
        {
          "output_type": "stream",
          "name": "stdout",
          "text": [
            "USER: 105572\n",
            "ITEM: Forrest Gump (1994)\n"
          ]
        },
        {
          "output_type": "execute_result",
          "data": {
            "text/html": [
              "<div>\n",
              "<style scoped>\n",
              "    .dataframe tbody tr th:only-of-type {\n",
              "        vertical-align: middle;\n",
              "    }\n",
              "\n",
              "    .dataframe tbody tr th {\n",
              "        vertical-align: top;\n",
              "    }\n",
              "\n",
              "    .dataframe thead th {\n",
              "        text-align: right;\n",
              "    }\n",
              "</style>\n",
              "<table border=\"1\" class=\"dataframe\">\n",
              "  <thead>\n",
              "    <tr style=\"text-align: right;\">\n",
              "      <th></th>\n",
              "      <th>ITEM_ID</th>\n",
              "      <th>TITLE</th>\n",
              "    </tr>\n",
              "  </thead>\n",
              "  <tbody>\n",
              "    <tr>\n",
              "      <th>0</th>\n",
              "      <td>1</td>\n",
              "      <td>Toy Story (1995)</td>\n",
              "    </tr>\n",
              "    <tr>\n",
              "      <th>1</th>\n",
              "      <td>2</td>\n",
              "      <td>Jumanji (1995)</td>\n",
              "    </tr>\n",
              "    <tr>\n",
              "      <th>2</th>\n",
              "      <td>3</td>\n",
              "      <td>Grumpier Old Men (1995)</td>\n",
              "    </tr>\n",
              "    <tr>\n",
              "      <th>3</th>\n",
              "      <td>4</td>\n",
              "      <td>Waiting to Exhale (1995)</td>\n",
              "    </tr>\n",
              "    <tr>\n",
              "      <th>4</th>\n",
              "      <td>5</td>\n",
              "      <td>Father of the Bride Part II (1995)</td>\n",
              "    </tr>\n",
              "    <tr>\n",
              "      <th>...</th>\n",
              "      <td>...</td>\n",
              "      <td>...</td>\n",
              "    </tr>\n",
              "    <tr>\n",
              "      <th>27273</th>\n",
              "      <td>131254</td>\n",
              "      <td>Kein Bund für's Leben (2007)</td>\n",
              "    </tr>\n",
              "    <tr>\n",
              "      <th>27274</th>\n",
              "      <td>131256</td>\n",
              "      <td>Feuer, Eis &amp; Dosenbier (2002)</td>\n",
              "    </tr>\n",
              "    <tr>\n",
              "      <th>27275</th>\n",
              "      <td>131258</td>\n",
              "      <td>The Pirates (2014)</td>\n",
              "    </tr>\n",
              "    <tr>\n",
              "      <th>27276</th>\n",
              "      <td>131260</td>\n",
              "      <td>Rentun Ruusu (2001)</td>\n",
              "    </tr>\n",
              "    <tr>\n",
              "      <th>27277</th>\n",
              "      <td>131262</td>\n",
              "      <td>Innocence (2014)</td>\n",
              "    </tr>\n",
              "  </tbody>\n",
              "</table>\n",
              "<p>27278 rows × 2 columns</p>\n",
              "</div>"
            ],
            "text/plain": [
              "       ITEM_ID                               TITLE\n",
              "0            1                    Toy Story (1995)\n",
              "1            2                      Jumanji (1995)\n",
              "2            3             Grumpier Old Men (1995)\n",
              "3            4            Waiting to Exhale (1995)\n",
              "4            5  Father of the Bride Part II (1995)\n",
              "...        ...                                 ...\n",
              "27273   131254        Kein Bund für's Leben (2007)\n",
              "27274   131256       Feuer, Eis & Dosenbier (2002)\n",
              "27275   131258                  The Pirates (2014)\n",
              "27276   131260                 Rentun Ruusu (2001)\n",
              "27277   131262                    Innocence (2014)\n",
              "\n",
              "[27278 rows x 2 columns]"
            ]
          },
          "metadata": {},
          "execution_count": 137
        }
      ]
    },
    {
      "cell_type": "code",
      "source": [
        "get_recommendations_response = personalize_runtime.get_recommendations(\n",
        "    campaignArn = campaign_arn,\n",
        "    userId = str(user_id),\n",
        "    itemId = str(item_id)\n",
        ")\n",
        "\n",
        "item_list = get_recommendations_response['itemList']\n",
        "title_list = [items.loc[items['ITEM_ID'] == np.int(item['itemId'])].values[0][-1] for item in item_list]\n",
        "\n",
        "print(\"Recommendations: {}\".format(json.dumps(title_list, indent=2)))"
      ],
      "metadata": {
        "colab": {
          "base_uri": "https://localhost:8080/"
        },
        "id": "FV-KbCsFbior",
        "outputId": "13e76e8c-a32e-4318-f635-ed2bbdb94db4"
      },
      "execution_count": null,
      "outputs": [
        {
          "output_type": "stream",
          "name": "stdout",
          "text": [
            "Recommendations: [\n",
            "  \"Searching for Bobby Fischer (1993)\",\n",
            "  \"In the Name of the Father (1993)\",\n",
            "  \"When a Man Loves a Woman (1994)\",\n",
            "  \"Rock, The (1996)\",\n",
            "  \"Just Cause (1995)\",\n",
            "  \"Murder in the First (1995)\",\n",
            "  \"Man Without a Face, The (1993)\",\n",
            "  \"Boys on the Side (1995)\",\n",
            "  \"Nobody's Fool (1994)\",\n",
            "  \"Snow White and the Seven Dwarfs (1937)\",\n",
            "  \"What's Love Got to Do with It? (1993)\",\n",
            "  \"Paper, The (1994)\",\n",
            "  \"Postman, The (Postino, Il) (1994)\",\n",
            "  \"Circle of Friends (1995)\",\n",
            "  \"Hudsucker Proxy, The (1994)\",\n",
            "  \"Something to Talk About (1995)\",\n",
            "  \"Much Ado About Nothing (1993)\",\n",
            "  \"Walk in the Clouds, A (1995)\",\n",
            "  \"To Die For (1995)\",\n",
            "  \"River Wild, The (1994)\",\n",
            "  \"Immortal Beloved (1994)\",\n",
            "  \"Corrina, Corrina (1994)\",\n",
            "  \"Remains of the Day, The (1993)\",\n",
            "  \"Independence Day (a.k.a. ID4) (1996)\",\n",
            "  \"Truth About Cats & Dogs, The (1996)\"\n",
            "]\n"
          ]
        }
      ]
    },
    {
      "cell_type": "code",
      "source": [
        ""
      ],
      "metadata": {
        "id": "KWDjRy3Gbvw7"
      },
      "execution_count": null,
      "outputs": []
    }
  ]
}