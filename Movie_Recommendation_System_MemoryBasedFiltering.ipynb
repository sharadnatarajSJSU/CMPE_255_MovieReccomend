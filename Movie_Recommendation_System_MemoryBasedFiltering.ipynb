{
  "nbformat": 4,
  "nbformat_minor": 0,
  "metadata": {
    "colab": {
      "name": "CMPE255-project1.ipynb",
      "provenance": []
    },
    "kernelspec": {
      "name": "python3",
      "display_name": "Python 3"
    },
    "language_info": {
      "name": "python"
    }
  },
  "cells": [
    {
      "cell_type": "markdown",
      "metadata": {
        "id": "dT4B5kxxHaQG"
      },
      "source": [
        "**Movie Recommenndation System**\n",
        "Recommendation system are one of the most popular application in retail, video, music streaming.\n",
        "\n",
        "Index\n",
        "\n",
        "\n",
        "*   Collabarative Filtering \n",
        "> Memory Based Filtering \n",
        "\n",
        "\n",
        "\n",
        "\n",
        "\n",
        "\n",
        "\n",
        "\n",
        "\n",
        "\n",
        "\n",
        "\n",
        "\n",
        "\n",
        "\n"
      ]
    },
    {
      "cell_type": "code",
      "metadata": {
        "colab": {
          "base_uri": "https://localhost:8080/"
        },
        "id": "y3M7A--ID6yn",
        "outputId": "5d139b85-af60-421a-a55c-ac3e62df834d"
      },
      "source": [
        "from google.colab import drive\n",
        "drive.mount('/content/drive')"
      ],
      "execution_count": null,
      "outputs": [
        {
          "output_type": "stream",
          "name": "stdout",
          "text": [
            "Mounted at /content/drive\n"
          ]
        }
      ]
    },
    {
      "cell_type": "code",
      "metadata": {
        "id": "fVxlOMPTEDTp"
      },
      "source": [
        "from math import sqrt\n",
        "import pandas as pd\n",
        "import numpy as np\n",
        "import seaborn as sns\n",
        "from matplotlib import pyplot as plt\n",
        "from sklearn.feature_extraction.text import TfidfVectorizer\n",
        "from sklearn.metrics.pairwise import linear_kernel"
      ],
      "execution_count": null,
      "outputs": []
    },
    {
      "cell_type": "code",
      "metadata": {
        "colab": {
          "base_uri": "https://localhost:8080/"
        },
        "id": "HnM624iQEGHJ",
        "outputId": "f60a7577-cc4e-4e5b-8b40-50af888ceb49"
      },
      "source": [
        "!unzip /content/drive/MyDrive/movciesdataset/ratings.csv.zip"
      ],
      "execution_count": null,
      "outputs": [
        {
          "output_type": "stream",
          "name": "stdout",
          "text": [
            "Archive:  /content/drive/MyDrive/movciesdataset/ratings.csv.zip\n",
            "  inflating: ratings.csv             \n"
          ]
        }
      ]
    },
    {
      "cell_type": "markdown",
      "metadata": {
        "id": "rEuGudH1HS_E"
      },
      "source": [
        "Loading data"
      ]
    },
    {
      "cell_type": "code",
      "metadata": {
        "id": "TYLpKDUPEJ5g"
      },
      "source": [
        "# Reading ratings file\n",
        "ratings = pd.read_csv('/content/ratings.csv', sep=',', encoding='latin-1', usecols=['userId','movieId','rating','timestamp'])\n",
        "\n",
        "# Reading movies file\n",
        "movies = pd.read_csv('/content/drive/MyDrive/movciesdataset/movies.csv', sep=',', encoding='latin-1', usecols=['movieId','title','genres'])"
      ],
      "execution_count": null,
      "outputs": []
    },
    {
      "cell_type": "code",
      "metadata": {
        "id": "WHe5kL5CEcx3"
      },
      "source": [
        "movies_data = movies\n",
        "rating_data = ratings"
      ],
      "execution_count": null,
      "outputs": []
    },
    {
      "cell_type": "code",
      "metadata": {
        "colab": {
          "base_uri": "https://localhost:8080/"
        },
        "id": "AXWUJuAHRilf",
        "outputId": "de7e67bf-7fde-4f53-fb0d-14d33b932aec"
      },
      "source": [
        "print(movies_data.columns)"
      ],
      "execution_count": null,
      "outputs": [
        {
          "output_type": "stream",
          "name": "stdout",
          "text": [
            "Index(['movieId', 'title', 'genres'], dtype='object')\n"
          ]
        }
      ]
    },
    {
      "cell_type": "code",
      "metadata": {
        "id": "FTKPmQ29EN_4"
      },
      "source": [
        "merge_ratings_movies = pd.merge(movies_data, rating_data, on='movieId', how='inner')"
      ],
      "execution_count": null,
      "outputs": []
    },
    {
      "cell_type": "code",
      "metadata": {
        "colab": {
          "base_uri": "https://localhost:8080/"
        },
        "id": "7tQ0MWHhEeKB",
        "outputId": "30328997-05e0-44b8-96ac-dc67dc800450"
      },
      "source": [
        "merge_ratings_movies.shape"
      ],
      "execution_count": null,
      "outputs": [
        {
          "output_type": "execute_result",
          "data": {
            "text/plain": [
              "(100836, 6)"
            ]
          },
          "metadata": {},
          "execution_count": 8
        }
      ]
    },
    {
      "cell_type": "code",
      "metadata": {
        "colab": {
          "base_uri": "https://localhost:8080/",
          "height": 206
        },
        "id": "rEBpVPVvEgqB",
        "outputId": "3484fdc3-c186-4ffe-af48-7f872718edba"
      },
      "source": [
        "merge_ratings_movies.head()"
      ],
      "execution_count": null,
      "outputs": [
        {
          "output_type": "execute_result",
          "data": {
            "text/html": [
              "<div>\n",
              "<style scoped>\n",
              "    .dataframe tbody tr th:only-of-type {\n",
              "        vertical-align: middle;\n",
              "    }\n",
              "\n",
              "    .dataframe tbody tr th {\n",
              "        vertical-align: top;\n",
              "    }\n",
              "\n",
              "    .dataframe thead th {\n",
              "        text-align: right;\n",
              "    }\n",
              "</style>\n",
              "<table border=\"1\" class=\"dataframe\">\n",
              "  <thead>\n",
              "    <tr style=\"text-align: right;\">\n",
              "      <th></th>\n",
              "      <th>movieId</th>\n",
              "      <th>title</th>\n",
              "      <th>genres</th>\n",
              "      <th>userId</th>\n",
              "      <th>rating</th>\n",
              "      <th>timestamp</th>\n",
              "    </tr>\n",
              "  </thead>\n",
              "  <tbody>\n",
              "    <tr>\n",
              "      <th>0</th>\n",
              "      <td>1</td>\n",
              "      <td>Toy Story (1995)</td>\n",
              "      <td>Adventure|Animation|Children|Comedy|Fantasy</td>\n",
              "      <td>1</td>\n",
              "      <td>4.0</td>\n",
              "      <td>964982703</td>\n",
              "    </tr>\n",
              "    <tr>\n",
              "      <th>1</th>\n",
              "      <td>1</td>\n",
              "      <td>Toy Story (1995)</td>\n",
              "      <td>Adventure|Animation|Children|Comedy|Fantasy</td>\n",
              "      <td>5</td>\n",
              "      <td>4.0</td>\n",
              "      <td>847434962</td>\n",
              "    </tr>\n",
              "    <tr>\n",
              "      <th>2</th>\n",
              "      <td>1</td>\n",
              "      <td>Toy Story (1995)</td>\n",
              "      <td>Adventure|Animation|Children|Comedy|Fantasy</td>\n",
              "      <td>7</td>\n",
              "      <td>4.5</td>\n",
              "      <td>1106635946</td>\n",
              "    </tr>\n",
              "    <tr>\n",
              "      <th>3</th>\n",
              "      <td>1</td>\n",
              "      <td>Toy Story (1995)</td>\n",
              "      <td>Adventure|Animation|Children|Comedy|Fantasy</td>\n",
              "      <td>15</td>\n",
              "      <td>2.5</td>\n",
              "      <td>1510577970</td>\n",
              "    </tr>\n",
              "    <tr>\n",
              "      <th>4</th>\n",
              "      <td>1</td>\n",
              "      <td>Toy Story (1995)</td>\n",
              "      <td>Adventure|Animation|Children|Comedy|Fantasy</td>\n",
              "      <td>17</td>\n",
              "      <td>4.5</td>\n",
              "      <td>1305696483</td>\n",
              "    </tr>\n",
              "  </tbody>\n",
              "</table>\n",
              "</div>"
            ],
            "text/plain": [
              "   movieId             title  ... rating   timestamp\n",
              "0        1  Toy Story (1995)  ...    4.0   964982703\n",
              "1        1  Toy Story (1995)  ...    4.0   847434962\n",
              "2        1  Toy Story (1995)  ...    4.5  1106635946\n",
              "3        1  Toy Story (1995)  ...    2.5  1510577970\n",
              "4        1  Toy Story (1995)  ...    4.5  1305696483\n",
              "\n",
              "[5 rows x 6 columns]"
            ]
          },
          "metadata": {},
          "execution_count": 9
        }
      ]
    },
    {
      "cell_type": "code",
      "metadata": {
        "id": "okHjFFsWHmne"
      },
      "source": [
        "merge_ratings_movies = merge_ratings_movies.drop('timestamp', axis=1)"
      ],
      "execution_count": null,
      "outputs": []
    },
    {
      "cell_type": "code",
      "metadata": {
        "id": "B5voyk9OEi1J"
      },
      "source": [
        "ratings = ratings.rename(columns={'ItemID': 'movie id'})"
      ],
      "execution_count": null,
      "outputs": []
    },
    {
      "cell_type": "code",
      "metadata": {
        "id": "HlIsameIEqiQ"
      },
      "source": [
        "data_movies_ratings=pd.merge(movies, ratings)"
      ],
      "execution_count": null,
      "outputs": []
    },
    {
      "cell_type": "code",
      "metadata": {
        "colab": {
          "base_uri": "https://localhost:8080/"
        },
        "id": "DH_4_AG6Eyoz",
        "outputId": "6c60653c-cf4c-4ae1-b1b5-1e8ccb8fe662"
      },
      "source": [
        "MovieRatings_matrix_items = merge_ratings_movies.pivot_table(index=['movieId'],columns=['userId'],values='rating').reset_index(drop=True)\n",
        "MovieRatings_matrix_items.fillna( 0, inplace = True )\n",
        "MovieRatings_matrix_items.shape"
      ],
      "execution_count": null,
      "outputs": [
        {
          "output_type": "execute_result",
          "data": {
            "text/plain": [
              "(9724, 610)"
            ]
          },
          "metadata": {},
          "execution_count": 13
        }
      ]
    },
    {
      "cell_type": "markdown",
      "metadata": {
        "id": "AnWo4PWi_aEc"
      },
      "source": [
        "**Collaborative Filtering**\n",
        "\n",
        "Types of collaborative filtering techniques\n",
        "\n",
        "Memory based\n",
        "\n",
        "*   Item-Item Filtering\n",
        "*   User-Item Filtering\n",
        "\n",
        "**ITEM-ITEM FILTERING**\n",
        "\n",
        "Item-item collaborative filtering, or item-based, or item-to-item, is a form of collaborative filtering for recommender systems based on the similarity between items calculated using people's ratings of those items.\n",
        "\n",
        "![s1ewew.PNG](data:image/png;base64,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)\n",
        "\n",
        "\n",
        "\n",
        "\n",
        "\n",
        "\n"
      ]
    },
    {
      "cell_type": "code",
      "metadata": {
        "id": "1JXBKnqFE5jY"
      },
      "source": [
        "from sklearn.metrics import pairwise_distances\n",
        "from scipy.spatial.distance import cosine, correlation\n",
        "\n",
        "movie_similarity_cosine = 1 - pairwise_distances( MovieRatings_matrix_items.values, metric=\"cosine\" )\n",
        "np.fill_diagonal( movie_similarity_cosine, 0 ) #Filling diagonals with 0s for future use when sorting is done\n",
        "ratings_matrix_items_cosine = pd.DataFrame( movie_similarity_cosine )\n",
        "movie_similarity_cosine = pd.DataFrame(movie_similarity_cosine)"
      ],
      "execution_count": null,
      "outputs": []
    },
    {
      "cell_type": "code",
      "metadata": {
        "id": "sQRUGIZxIcnx"
      },
      "source": [
        "def movie_similarity(input_movieName):\n",
        "  movie_index = -1\n",
        "  movie_index = movies_data[movies_data['title']==input_movieName].index.tolist()\n",
        "  # print(movie_index)\n",
        "  if movie_index==-1:\n",
        "    return False\n",
        "  else:\n",
        "    movie_index = movie_index[0]\n",
        "    movies_data['similarity'] = movie_similarity_cosine.iloc[movie_index]\n",
        "    movies_data.columns = ['movie_id', 'title', 'release_date','similarity']\n",
        "    return True"
      ],
      "execution_count": null,
      "outputs": []
    },
    {
      "cell_type": "code",
      "metadata": {
        "id": "b2tsQeW_JHgl"
      },
      "source": [
        "def recommendedMoviesAsperItemSimilarity(user_id):\n",
        "\n",
        "    user_similar_movie= merge_ratings_movies[(merge_ratings_movies.userId==user_id) & merge_ratings_movies.rating.isin([5])][['title']]\n",
        "    user_similar_movie = user_similar_movie.iloc[0,0]\n",
        "    movie_similarity(user_similar_movie)\n",
        "    recommend_movies_similarity=movies_data.sort_values( [\"similarity\"], ascending = False )\n",
        "    recommend_movies_similarity = movies_data[movies_data['similarity'] >=0.5]['movie_id']\n",
        "    recommended_movies_dataframe = pd.DataFrame()\n",
        "    user_movies_list = ratings[ratings['userId']== user_id]['movieId']\n",
        "    for movie_idx in recommend_movies_similarity:\n",
        "            if movie_idx not in user_movies_list:\n",
        "                new_movies= ratings[(ratings.movieId==movie_idx)]\n",
        "                recommended_movies_dataframe=pd.concat([recommended_movies_dataframe,new_movies])\n",
        "    return recommended_movies_dataframe #Top_bext_movies['movieId']"
      ],
      "execution_count": null,
      "outputs": []
    },
    {
      "cell_type": "code",
      "metadata": {
        "colab": {
          "base_uri": "https://localhost:8080/",
          "height": 206
        },
        "id": "BZLr1lV-ta8u",
        "outputId": "c5e23032-6289-452d-b635-500fc60c8525"
      },
      "source": [
        "recommended_movies_dataframe = recommendedMoviesAsperItemSimilarity(1)\n",
        "recommended_movies_dataframe.head()"
      ],
      "execution_count": null,
      "outputs": [
        {
          "output_type": "execute_result",
          "data": {
            "text/html": [
              "<div>\n",
              "<style scoped>\n",
              "    .dataframe tbody tr th:only-of-type {\n",
              "        vertical-align: middle;\n",
              "    }\n",
              "\n",
              "    .dataframe tbody tr th {\n",
              "        vertical-align: top;\n",
              "    }\n",
              "\n",
              "    .dataframe thead th {\n",
              "        text-align: right;\n",
              "    }\n",
              "</style>\n",
              "<table border=\"1\" class=\"dataframe\">\n",
              "  <thead>\n",
              "    <tr style=\"text-align: right;\">\n",
              "      <th></th>\n",
              "      <th>userId</th>\n",
              "      <th>movieId</th>\n",
              "      <th>rating</th>\n",
              "      <th>timestamp</th>\n",
              "    </tr>\n",
              "  </thead>\n",
              "  <tbody>\n",
              "    <tr>\n",
              "      <th>15</th>\n",
              "      <td>1</td>\n",
              "      <td>260</td>\n",
              "      <td>5.0</td>\n",
              "      <td>964981680</td>\n",
              "    </tr>\n",
              "    <tr>\n",
              "      <th>318</th>\n",
              "      <td>4</td>\n",
              "      <td>260</td>\n",
              "      <td>5.0</td>\n",
              "      <td>945079259</td>\n",
              "    </tr>\n",
              "    <tr>\n",
              "      <th>879</th>\n",
              "      <td>7</td>\n",
              "      <td>260</td>\n",
              "      <td>5.0</td>\n",
              "      <td>1106635933</td>\n",
              "    </tr>\n",
              "    <tr>\n",
              "      <th>1440</th>\n",
              "      <td>15</td>\n",
              "      <td>260</td>\n",
              "      <td>5.0</td>\n",
              "      <td>1510571946</td>\n",
              "    </tr>\n",
              "    <tr>\n",
              "      <th>1573</th>\n",
              "      <td>16</td>\n",
              "      <td>260</td>\n",
              "      <td>3.0</td>\n",
              "      <td>1377476936</td>\n",
              "    </tr>\n",
              "  </tbody>\n",
              "</table>\n",
              "</div>"
            ],
            "text/plain": [
              "      userId  movieId  rating   timestamp\n",
              "15         1      260     5.0   964981680\n",
              "318        4      260     5.0   945079259\n",
              "879        7      260     5.0  1106635933\n",
              "1440      15      260     5.0  1510571946\n",
              "1573      16      260     3.0  1377476936"
            ]
          },
          "metadata": {},
          "execution_count": 58
        }
      ]
    },
    {
      "cell_type": "code",
      "metadata": {
        "colab": {
          "base_uri": "https://localhost:8080/"
        },
        "id": "je64JC7dtvKZ",
        "outputId": "d20cb0c0-37cb-4ec1-ce73-fd9ab3d3b61e"
      },
      "source": [
        "Top_best_movies=recommended_movies_dataframe.sort_values([\"rating\"], ascending = False )[1:20]\n",
        "Top_best_movies = Top_bext_movies['movieId']\n",
        "Top_best_movies.shape"
      ],
      "execution_count": null,
      "outputs": [
        {
          "output_type": "execute_result",
          "data": {
            "text/plain": [
              "(19,)"
            ]
          },
          "metadata": {},
          "execution_count": 19
        }
      ]
    },
    {
      "cell_type": "code",
      "metadata": {
        "id": "3fM9m0cOJcbm"
      },
      "source": [
        "def getMovieNameFromID(listMovieIDs):\n",
        "    recommend_movies_list= list()\n",
        "    for id in listMovieIDs:\n",
        "        recommend_movies_list.append(movies_data[movies_data['movie_id']==id]['title'])\n",
        "    recommend_movies_list = np.array(recommend_movies_list)\n",
        "    recommend_movies_list = np.unique(recommend_movies_list)\n",
        "    return recommend_movies_list"
      ],
      "execution_count": null,
      "outputs": []
    },
    {
      "cell_type": "code",
      "metadata": {
        "colab": {
          "base_uri": "https://localhost:8080/"
        },
        "id": "Sm_2N2UlSuqB",
        "outputId": "1e396b49-5a45-4ecc-e2fa-d6d84cb04697"
      },
      "source": [
        "getMovieNameFromID(Top_best_movies)"
      ],
      "execution_count": null,
      "outputs": [
        {
          "output_type": "execute_result",
          "data": {
            "text/plain": [
              "array(['Fargo (1996)', 'Forrest Gump (1994)', 'Pulp Fiction (1994)',\n",
              "       'Silence of the Lambs, The (1991)'], dtype=object)"
            ]
          },
          "metadata": {},
          "execution_count": 21
        }
      ]
    },
    {
      "cell_type": "markdown",
      "metadata": {
        "id": "QETPfghEnmhP"
      },
      "source": [
        "**USER ITEM FILTERING**\n",
        "\n",
        "The underlying assumption of the collaborative filtering approach is that if a User1 has the same opinion as a person B on an issue, A is more likely to have User2's opinion on a different issue than that of a randomly chosen perso\n",
        "\n",
        "![ss1.PNG](data:image/png;base64,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)\n",
        "\n"
      ]
    },
    {
      "cell_type": "markdown",
      "metadata": {
        "id": "NwgG76C9FWYl"
      },
      "source": [
        "Matrix to store rows as user and columns as movie id"
      ]
    },
    {
      "cell_type": "code",
      "metadata": {
        "id": "4o_J31AonrlK"
      },
      "source": [
        "ratings_movie_users = merge_ratings_movies.pivot_table(index=['userId'],columns=['movieId'],values='rating').reset_index(drop=True)\n",
        "ratings_movie_users.fillna( 0, inplace = True )"
      ],
      "execution_count": null,
      "outputs": []
    },
    {
      "cell_type": "markdown",
      "metadata": {
        "id": "jJmEYyFLFfuU"
      },
      "source": [
        "Find the similarity between the using cosine similarity"
      ]
    },
    {
      "cell_type": "code",
      "metadata": {
        "colab": {
          "base_uri": "https://localhost:8080/",
          "height": 255
        },
        "id": "7TsjMCdeObGK",
        "outputId": "cdba1461-d6e3-49b8-cf63-8d3a56cf686d"
      },
      "source": [
        "movie_similarity = 1 - pairwise_distances( ratings_movie_users, metric=\"cosine\" )\n",
        "np.fill_diagonal( movie_similarity, 0 ) #Filling diagonals with 0s for future use when sorting is done\n",
        "ratings_movie_users = pd.DataFrame( movie_similarity )\n",
        "ratings_movie_users.head()"
      ],
      "execution_count": null,
      "outputs": [
        {
          "output_type": "execute_result",
          "data": {
            "text/html": [
              "<div>\n",
              "<style scoped>\n",
              "    .dataframe tbody tr th:only-of-type {\n",
              "        vertical-align: middle;\n",
              "    }\n",
              "\n",
              "    .dataframe tbody tr th {\n",
              "        vertical-align: top;\n",
              "    }\n",
              "\n",
              "    .dataframe thead th {\n",
              "        text-align: right;\n",
              "    }\n",
              "</style>\n",
              "<table border=\"1\" class=\"dataframe\">\n",
              "  <thead>\n",
              "    <tr style=\"text-align: right;\">\n",
              "      <th></th>\n",
              "      <th>0</th>\n",
              "      <th>1</th>\n",
              "      <th>2</th>\n",
              "      <th>3</th>\n",
              "      <th>4</th>\n",
              "      <th>5</th>\n",
              "      <th>6</th>\n",
              "      <th>7</th>\n",
              "      <th>8</th>\n",
              "      <th>9</th>\n",
              "      <th>10</th>\n",
              "      <th>11</th>\n",
              "      <th>12</th>\n",
              "      <th>13</th>\n",
              "      <th>14</th>\n",
              "      <th>15</th>\n",
              "      <th>16</th>\n",
              "      <th>17</th>\n",
              "      <th>18</th>\n",
              "      <th>19</th>\n",
              "      <th>20</th>\n",
              "      <th>21</th>\n",
              "      <th>22</th>\n",
              "      <th>23</th>\n",
              "      <th>24</th>\n",
              "      <th>25</th>\n",
              "      <th>26</th>\n",
              "      <th>27</th>\n",
              "      <th>28</th>\n",
              "      <th>29</th>\n",
              "      <th>30</th>\n",
              "      <th>31</th>\n",
              "      <th>32</th>\n",
              "      <th>33</th>\n",
              "      <th>34</th>\n",
              "      <th>35</th>\n",
              "      <th>36</th>\n",
              "      <th>37</th>\n",
              "      <th>38</th>\n",
              "      <th>39</th>\n",
              "      <th>...</th>\n",
              "      <th>570</th>\n",
              "      <th>571</th>\n",
              "      <th>572</th>\n",
              "      <th>573</th>\n",
              "      <th>574</th>\n",
              "      <th>575</th>\n",
              "      <th>576</th>\n",
              "      <th>577</th>\n",
              "      <th>578</th>\n",
              "      <th>579</th>\n",
              "      <th>580</th>\n",
              "      <th>581</th>\n",
              "      <th>582</th>\n",
              "      <th>583</th>\n",
              "      <th>584</th>\n",
              "      <th>585</th>\n",
              "      <th>586</th>\n",
              "      <th>587</th>\n",
              "      <th>588</th>\n",
              "      <th>589</th>\n",
              "      <th>590</th>\n",
              "      <th>591</th>\n",
              "      <th>592</th>\n",
              "      <th>593</th>\n",
              "      <th>594</th>\n",
              "      <th>595</th>\n",
              "      <th>596</th>\n",
              "      <th>597</th>\n",
              "      <th>598</th>\n",
              "      <th>599</th>\n",
              "      <th>600</th>\n",
              "      <th>601</th>\n",
              "      <th>602</th>\n",
              "      <th>603</th>\n",
              "      <th>604</th>\n",
              "      <th>605</th>\n",
              "      <th>606</th>\n",
              "      <th>607</th>\n",
              "      <th>608</th>\n",
              "      <th>609</th>\n",
              "    </tr>\n",
              "  </thead>\n",
              "  <tbody>\n",
              "    <tr>\n",
              "      <th>0</th>\n",
              "      <td>0.000000</td>\n",
              "      <td>0.027283</td>\n",
              "      <td>0.059720</td>\n",
              "      <td>0.194395</td>\n",
              "      <td>0.129080</td>\n",
              "      <td>0.128152</td>\n",
              "      <td>0.158744</td>\n",
              "      <td>0.136968</td>\n",
              "      <td>0.064263</td>\n",
              "      <td>0.016875</td>\n",
              "      <td>0.132499</td>\n",
              "      <td>0.016458</td>\n",
              "      <td>0.092971</td>\n",
              "      <td>0.113238</td>\n",
              "      <td>0.160689</td>\n",
              "      <td>0.169858</td>\n",
              "      <td>0.264358</td>\n",
              "      <td>0.214868</td>\n",
              "      <td>0.325376</td>\n",
              "      <td>0.160969</td>\n",
              "      <td>0.153162</td>\n",
              "      <td>0.050691</td>\n",
              "      <td>0.106669</td>\n",
              "      <td>0.155193</td>\n",
              "      <td>0.099261</td>\n",
              "      <td>0.105791</td>\n",
              "      <td>0.238933</td>\n",
              "      <td>0.202866</td>\n",
              "      <td>0.145251</td>\n",
              "      <td>0.099781</td>\n",
              "      <td>0.164454</td>\n",
              "      <td>0.146211</td>\n",
              "      <td>0.151945</td>\n",
              "      <td>0.083544</td>\n",
              "      <td>0.074508</td>\n",
              "      <td>0.071673</td>\n",
              "      <td>0.144736</td>\n",
              "      <td>0.138588</td>\n",
              "      <td>0.329782</td>\n",
              "      <td>0.094755</td>\n",
              "      <td>...</td>\n",
              "      <td>0.090224</td>\n",
              "      <td>0.131072</td>\n",
              "      <td>0.253480</td>\n",
              "      <td>0.093450</td>\n",
              "      <td>0.062668</td>\n",
              "      <td>0.051803</td>\n",
              "      <td>0.317319</td>\n",
              "      <td>0.0</td>\n",
              "      <td>0.141129</td>\n",
              "      <td>0.249326</td>\n",
              "      <td>0.057399</td>\n",
              "      <td>0.048914</td>\n",
              "      <td>0.052175</td>\n",
              "      <td>0.100406</td>\n",
              "      <td>0.114076</td>\n",
              "      <td>0.123280</td>\n",
              "      <td>0.122782</td>\n",
              "      <td>0.183922</td>\n",
              "      <td>0.118112</td>\n",
              "      <td>0.324766</td>\n",
              "      <td>0.136809</td>\n",
              "      <td>0.143934</td>\n",
              "      <td>0.174413</td>\n",
              "      <td>0.141960</td>\n",
              "      <td>0.110558</td>\n",
              "      <td>0.123713</td>\n",
              "      <td>0.312843</td>\n",
              "      <td>0.011280</td>\n",
              "      <td>0.282412</td>\n",
              "      <td>0.291272</td>\n",
              "      <td>0.080554</td>\n",
              "      <td>0.164455</td>\n",
              "      <td>0.221486</td>\n",
              "      <td>0.070669</td>\n",
              "      <td>0.153625</td>\n",
              "      <td>0.164191</td>\n",
              "      <td>0.269389</td>\n",
              "      <td>0.291097</td>\n",
              "      <td>0.093572</td>\n",
              "      <td>0.145321</td>\n",
              "    </tr>\n",
              "    <tr>\n",
              "      <th>1</th>\n",
              "      <td>0.027283</td>\n",
              "      <td>0.000000</td>\n",
              "      <td>0.000000</td>\n",
              "      <td>0.003726</td>\n",
              "      <td>0.016614</td>\n",
              "      <td>0.025333</td>\n",
              "      <td>0.027585</td>\n",
              "      <td>0.027257</td>\n",
              "      <td>0.000000</td>\n",
              "      <td>0.067445</td>\n",
              "      <td>0.044419</td>\n",
              "      <td>0.000000</td>\n",
              "      <td>0.043918</td>\n",
              "      <td>0.016901</td>\n",
              "      <td>0.119778</td>\n",
              "      <td>0.093728</td>\n",
              "      <td>0.103755</td>\n",
              "      <td>0.166253</td>\n",
              "      <td>0.012571</td>\n",
              "      <td>0.014137</td>\n",
              "      <td>0.090880</td>\n",
              "      <td>0.144635</td>\n",
              "      <td>0.013597</td>\n",
              "      <td>0.129902</td>\n",
              "      <td>0.226008</td>\n",
              "      <td>0.000000</td>\n",
              "      <td>0.000000</td>\n",
              "      <td>0.058145</td>\n",
              "      <td>0.104059</td>\n",
              "      <td>0.149324</td>\n",
              "      <td>0.000000</td>\n",
              "      <td>0.017807</td>\n",
              "      <td>0.032428</td>\n",
              "      <td>0.043299</td>\n",
              "      <td>0.000000</td>\n",
              "      <td>0.054012</td>\n",
              "      <td>0.028500</td>\n",
              "      <td>0.023147</td>\n",
              "      <td>0.000000</td>\n",
              "      <td>0.017446</td>\n",
              "      <td>...</td>\n",
              "      <td>0.000000</td>\n",
              "      <td>0.032675</td>\n",
              "      <td>0.167959</td>\n",
              "      <td>0.035531</td>\n",
              "      <td>0.000000</td>\n",
              "      <td>0.000000</td>\n",
              "      <td>0.014870</td>\n",
              "      <td>0.0</td>\n",
              "      <td>0.000000</td>\n",
              "      <td>0.061953</td>\n",
              "      <td>0.136703</td>\n",
              "      <td>0.219315</td>\n",
              "      <td>0.043620</td>\n",
              "      <td>0.000000</td>\n",
              "      <td>0.127551</td>\n",
              "      <td>0.089562</td>\n",
              "      <td>0.000000</td>\n",
              "      <td>0.055900</td>\n",
              "      <td>0.026429</td>\n",
              "      <td>0.056348</td>\n",
              "      <td>0.036147</td>\n",
              "      <td>0.030684</td>\n",
              "      <td>0.062033</td>\n",
              "      <td>0.013125</td>\n",
              "      <td>0.000000</td>\n",
              "      <td>0.104568</td>\n",
              "      <td>0.011986</td>\n",
              "      <td>0.048508</td>\n",
              "      <td>0.098000</td>\n",
              "      <td>0.023248</td>\n",
              "      <td>0.202671</td>\n",
              "      <td>0.016866</td>\n",
              "      <td>0.011997</td>\n",
              "      <td>0.000000</td>\n",
              "      <td>0.000000</td>\n",
              "      <td>0.028429</td>\n",
              "      <td>0.012948</td>\n",
              "      <td>0.046211</td>\n",
              "      <td>0.027565</td>\n",
              "      <td>0.102427</td>\n",
              "    </tr>\n",
              "    <tr>\n",
              "      <th>2</th>\n",
              "      <td>0.059720</td>\n",
              "      <td>0.000000</td>\n",
              "      <td>0.000000</td>\n",
              "      <td>0.002251</td>\n",
              "      <td>0.005020</td>\n",
              "      <td>0.003936</td>\n",
              "      <td>0.000000</td>\n",
              "      <td>0.004941</td>\n",
              "      <td>0.000000</td>\n",
              "      <td>0.000000</td>\n",
              "      <td>0.000000</td>\n",
              "      <td>0.000000</td>\n",
              "      <td>0.000000</td>\n",
              "      <td>0.003064</td>\n",
              "      <td>0.017251</td>\n",
              "      <td>0.032299</td>\n",
              "      <td>0.009813</td>\n",
              "      <td>0.028241</td>\n",
              "      <td>0.019142</td>\n",
              "      <td>0.008756</td>\n",
              "      <td>0.004017</td>\n",
              "      <td>0.003070</td>\n",
              "      <td>0.003081</td>\n",
              "      <td>0.002592</td>\n",
              "      <td>0.005100</td>\n",
              "      <td>0.000000</td>\n",
              "      <td>0.002332</td>\n",
              "      <td>0.029771</td>\n",
              "      <td>0.005974</td>\n",
              "      <td>0.000000</td>\n",
              "      <td>0.003507</td>\n",
              "      <td>0.015494</td>\n",
              "      <td>0.007156</td>\n",
              "      <td>0.000736</td>\n",
              "      <td>0.000000</td>\n",
              "      <td>0.000000</td>\n",
              "      <td>0.000000</td>\n",
              "      <td>0.004196</td>\n",
              "      <td>0.003639</td>\n",
              "      <td>0.002530</td>\n",
              "      <td>...</td>\n",
              "      <td>0.020899</td>\n",
              "      <td>0.008056</td>\n",
              "      <td>0.000000</td>\n",
              "      <td>0.000000</td>\n",
              "      <td>0.000000</td>\n",
              "      <td>0.029830</td>\n",
              "      <td>0.039894</td>\n",
              "      <td>0.0</td>\n",
              "      <td>0.005749</td>\n",
              "      <td>0.033121</td>\n",
              "      <td>0.008561</td>\n",
              "      <td>0.000000</td>\n",
              "      <td>0.000000</td>\n",
              "      <td>0.000000</td>\n",
              "      <td>0.000000</td>\n",
              "      <td>0.000986</td>\n",
              "      <td>0.015793</td>\n",
              "      <td>0.003923</td>\n",
              "      <td>0.004791</td>\n",
              "      <td>0.027418</td>\n",
              "      <td>0.000000</td>\n",
              "      <td>0.000000</td>\n",
              "      <td>0.006460</td>\n",
              "      <td>0.001983</td>\n",
              "      <td>0.000000</td>\n",
              "      <td>0.025873</td>\n",
              "      <td>0.028970</td>\n",
              "      <td>0.000000</td>\n",
              "      <td>0.039539</td>\n",
              "      <td>0.013143</td>\n",
              "      <td>0.005048</td>\n",
              "      <td>0.004892</td>\n",
              "      <td>0.024992</td>\n",
              "      <td>0.000000</td>\n",
              "      <td>0.010694</td>\n",
              "      <td>0.012993</td>\n",
              "      <td>0.019247</td>\n",
              "      <td>0.021128</td>\n",
              "      <td>0.000000</td>\n",
              "      <td>0.032119</td>\n",
              "    </tr>\n",
              "    <tr>\n",
              "      <th>3</th>\n",
              "      <td>0.194395</td>\n",
              "      <td>0.003726</td>\n",
              "      <td>0.002251</td>\n",
              "      <td>0.000000</td>\n",
              "      <td>0.128659</td>\n",
              "      <td>0.088491</td>\n",
              "      <td>0.115120</td>\n",
              "      <td>0.062969</td>\n",
              "      <td>0.011361</td>\n",
              "      <td>0.031163</td>\n",
              "      <td>0.054767</td>\n",
              "      <td>0.049945</td>\n",
              "      <td>0.076949</td>\n",
              "      <td>0.048989</td>\n",
              "      <td>0.071551</td>\n",
              "      <td>0.164761</td>\n",
              "      <td>0.145058</td>\n",
              "      <td>0.123217</td>\n",
              "      <td>0.206053</td>\n",
              "      <td>0.113755</td>\n",
              "      <td>0.053014</td>\n",
              "      <td>0.043403</td>\n",
              "      <td>0.093971</td>\n",
              "      <td>0.071690</td>\n",
              "      <td>0.032862</td>\n",
              "      <td>0.061832</td>\n",
              "      <td>0.128954</td>\n",
              "      <td>0.135593</td>\n",
              "      <td>0.061308</td>\n",
              "      <td>0.058140</td>\n",
              "      <td>0.126182</td>\n",
              "      <td>0.200597</td>\n",
              "      <td>0.167247</td>\n",
              "      <td>0.045571</td>\n",
              "      <td>0.050148</td>\n",
              "      <td>0.113807</td>\n",
              "      <td>0.061031</td>\n",
              "      <td>0.090125</td>\n",
              "      <td>0.240976</td>\n",
              "      <td>0.053436</td>\n",
              "      <td>...</td>\n",
              "      <td>0.018553</td>\n",
              "      <td>0.182857</td>\n",
              "      <td>0.125627</td>\n",
              "      <td>0.064559</td>\n",
              "      <td>0.061035</td>\n",
              "      <td>0.005932</td>\n",
              "      <td>0.169440</td>\n",
              "      <td>0.0</td>\n",
              "      <td>0.098777</td>\n",
              "      <td>0.148584</td>\n",
              "      <td>0.043871</td>\n",
              "      <td>0.047619</td>\n",
              "      <td>0.048474</td>\n",
              "      <td>0.041246</td>\n",
              "      <td>0.088289</td>\n",
              "      <td>0.064095</td>\n",
              "      <td>0.138766</td>\n",
              "      <td>0.049146</td>\n",
              "      <td>0.064485</td>\n",
              "      <td>0.219298</td>\n",
              "      <td>0.116111</td>\n",
              "      <td>0.068196</td>\n",
              "      <td>0.217116</td>\n",
              "      <td>0.082614</td>\n",
              "      <td>0.091974</td>\n",
              "      <td>0.107908</td>\n",
              "      <td>0.275436</td>\n",
              "      <td>0.016054</td>\n",
              "      <td>0.201610</td>\n",
              "      <td>0.211921</td>\n",
              "      <td>0.085938</td>\n",
              "      <td>0.128273</td>\n",
              "      <td>0.307973</td>\n",
              "      <td>0.052985</td>\n",
              "      <td>0.084584</td>\n",
              "      <td>0.200395</td>\n",
              "      <td>0.131746</td>\n",
              "      <td>0.149858</td>\n",
              "      <td>0.032198</td>\n",
              "      <td>0.107683</td>\n",
              "    </tr>\n",
              "    <tr>\n",
              "      <th>4</th>\n",
              "      <td>0.129080</td>\n",
              "      <td>0.016614</td>\n",
              "      <td>0.005020</td>\n",
              "      <td>0.128659</td>\n",
              "      <td>0.000000</td>\n",
              "      <td>0.300349</td>\n",
              "      <td>0.108342</td>\n",
              "      <td>0.429075</td>\n",
              "      <td>0.000000</td>\n",
              "      <td>0.030611</td>\n",
              "      <td>0.183805</td>\n",
              "      <td>0.058860</td>\n",
              "      <td>0.017157</td>\n",
              "      <td>0.221711</td>\n",
              "      <td>0.110152</td>\n",
              "      <td>0.082171</td>\n",
              "      <td>0.162633</td>\n",
              "      <td>0.121313</td>\n",
              "      <td>0.098758</td>\n",
              "      <td>0.096474</td>\n",
              "      <td>0.058264</td>\n",
              "      <td>0.033074</td>\n",
              "      <td>0.066889</td>\n",
              "      <td>0.096215</td>\n",
              "      <td>0.040705</td>\n",
              "      <td>0.294282</td>\n",
              "      <td>0.100491</td>\n",
              "      <td>0.121894</td>\n",
              "      <td>0.068876</td>\n",
              "      <td>0.065534</td>\n",
              "      <td>0.068585</td>\n",
              "      <td>0.233932</td>\n",
              "      <td>0.282323</td>\n",
              "      <td>0.029953</td>\n",
              "      <td>0.311472</td>\n",
              "      <td>0.022065</td>\n",
              "      <td>0.303078</td>\n",
              "      <td>0.377773</td>\n",
              "      <td>0.152956</td>\n",
              "      <td>0.321077</td>\n",
              "      <td>...</td>\n",
              "      <td>0.020016</td>\n",
              "      <td>0.124806</td>\n",
              "      <td>0.129338</td>\n",
              "      <td>0.341347</td>\n",
              "      <td>0.049306</td>\n",
              "      <td>0.000000</td>\n",
              "      <td>0.122199</td>\n",
              "      <td>0.0</td>\n",
              "      <td>0.182382</td>\n",
              "      <td>0.117199</td>\n",
              "      <td>0.057538</td>\n",
              "      <td>0.000000</td>\n",
              "      <td>0.124645</td>\n",
              "      <td>0.348215</td>\n",
              "      <td>0.029293</td>\n",
              "      <td>0.072713</td>\n",
              "      <td>0.154315</td>\n",
              "      <td>0.377256</td>\n",
              "      <td>0.230961</td>\n",
              "      <td>0.152971</td>\n",
              "      <td>0.000000</td>\n",
              "      <td>0.359595</td>\n",
              "      <td>0.171864</td>\n",
              "      <td>0.137990</td>\n",
              "      <td>0.073238</td>\n",
              "      <td>0.096181</td>\n",
              "      <td>0.116071</td>\n",
              "      <td>0.000000</td>\n",
              "      <td>0.098599</td>\n",
              "      <td>0.137053</td>\n",
              "      <td>0.068048</td>\n",
              "      <td>0.418747</td>\n",
              "      <td>0.110148</td>\n",
              "      <td>0.258773</td>\n",
              "      <td>0.148758</td>\n",
              "      <td>0.106435</td>\n",
              "      <td>0.152866</td>\n",
              "      <td>0.135535</td>\n",
              "      <td>0.261232</td>\n",
              "      <td>0.060792</td>\n",
              "    </tr>\n",
              "  </tbody>\n",
              "</table>\n",
              "<p>5 rows × 610 columns</p>\n",
              "</div>"
            ],
            "text/plain": [
              "        0         1         2    ...       607       608       609\n",
              "0  0.000000  0.027283  0.059720  ...  0.291097  0.093572  0.145321\n",
              "1  0.027283  0.000000  0.000000  ...  0.046211  0.027565  0.102427\n",
              "2  0.059720  0.000000  0.000000  ...  0.021128  0.000000  0.032119\n",
              "3  0.194395  0.003726  0.002251  ...  0.149858  0.032198  0.107683\n",
              "4  0.129080  0.016614  0.005020  ...  0.135535  0.261232  0.060792\n",
              "\n",
              "[5 rows x 610 columns]"
            ]
          },
          "metadata": {},
          "execution_count": 24
        }
      ]
    },
    {
      "cell_type": "markdown",
      "metadata": {
        "id": "C4j6Qa9HFqGJ"
      },
      "source": [
        "Get the list of user id in dataframe"
      ]
    },
    {
      "cell_type": "code",
      "metadata": {
        "colab": {
          "base_uri": "https://localhost:8080/",
          "height": 206
        },
        "id": "mUKGt15TOqG9",
        "outputId": "4c2dde76-7bc0-44fb-e9f5-cac4a718c81c"
      },
      "source": [
        "similar_user= ratings_movie_users.idxmax(axis=1)\n",
        "data_similar_user= similar_user.to_frame()\n",
        "data_similar_user.columns=['similarUser']\n",
        "data_similar_user.head()"
      ],
      "execution_count": null,
      "outputs": [
        {
          "output_type": "execute_result",
          "data": {
            "text/html": [
              "<div>\n",
              "<style scoped>\n",
              "    .dataframe tbody tr th:only-of-type {\n",
              "        vertical-align: middle;\n",
              "    }\n",
              "\n",
              "    .dataframe tbody tr th {\n",
              "        vertical-align: top;\n",
              "    }\n",
              "\n",
              "    .dataframe thead th {\n",
              "        text-align: right;\n",
              "    }\n",
              "</style>\n",
              "<table border=\"1\" class=\"dataframe\">\n",
              "  <thead>\n",
              "    <tr style=\"text-align: right;\">\n",
              "      <th></th>\n",
              "      <th>similarUser</th>\n",
              "    </tr>\n",
              "  </thead>\n",
              "  <tbody>\n",
              "    <tr>\n",
              "      <th>0</th>\n",
              "      <td>265</td>\n",
              "    </tr>\n",
              "    <tr>\n",
              "      <th>1</th>\n",
              "      <td>365</td>\n",
              "    </tr>\n",
              "    <tr>\n",
              "      <th>2</th>\n",
              "      <td>312</td>\n",
              "    </tr>\n",
              "    <tr>\n",
              "      <th>3</th>\n",
              "      <td>390</td>\n",
              "    </tr>\n",
              "    <tr>\n",
              "      <th>4</th>\n",
              "      <td>469</td>\n",
              "    </tr>\n",
              "  </tbody>\n",
              "</table>\n",
              "</div>"
            ],
            "text/plain": [
              "   similarUser\n",
              "0          265\n",
              "1          365\n",
              "2          312\n",
              "3          390\n",
              "4          469"
            ]
          },
          "metadata": {},
          "execution_count": 27
        }
      ]
    },
    {
      "cell_type": "markdown",
      "metadata": {
        "id": "XVCn3wLhFuIw"
      },
      "source": [
        "Recommend the movies by finding the user having similar taste as the user id provided to the function."
      ]
    },
    {
      "cell_type": "code",
      "metadata": {
        "id": "Ylvs5Z9_PAVy"
      },
      "source": [
        "movieId_list=list()\n",
        "def getRecommendedMoviesByUserSimilarity(userId):\n",
        "    user_Movies= ratings[ratings['userId']== userId]['movieId']\n",
        "    sim_user=data_similar_user.iloc[0,0]\n",
        "    movie_recommended=pd.DataFrame(columns=['movieId','title','genres','userId','rating','timestamp'])\n",
        "    for movieId in ratings[ratings['userId']== sim_user]['movieId']:\n",
        "        if movieId not in user_Movies:\n",
        "            new_movies= merge_ratings_movies[(merge_ratings_movies.userId==sim_user) & (merge_ratings_movies.movieId==movieId)]\n",
        "            movie_recommended=pd.concat([movie_recommended,new_movies])\n",
        "        best10=movie_recommended.sort_values(['rating'], ascending = False )[1:10]  \n",
        "    return best10['movieId']"
      ],
      "execution_count": null,
      "outputs": []
    },
    {
      "cell_type": "markdown",
      "metadata": {
        "id": "FkSA9X9xF_1I"
      },
      "source": [
        "Get the top 10 best rated movies for the user id "
      ]
    },
    {
      "cell_type": "code",
      "metadata": {
        "id": "pVqUqKiAPpYr"
      },
      "source": [
        "Top_best_movies = getRecommendedMoviesByUserSimilarity(1)"
      ],
      "execution_count": null,
      "outputs": []
    },
    {
      "cell_type": "code",
      "metadata": {
        "colab": {
          "base_uri": "https://localhost:8080/"
        },
        "id": "uTVLWZd2P5-C",
        "outputId": "b10dd7a9-e99f-40f9-ed31-fb242054ec45"
      },
      "source": [
        "getMovieNameFromID(Top_best_movies)"
      ],
      "execution_count": null,
      "outputs": [
        {
          "output_type": "execute_result",
          "data": {
            "text/plain": [
              "array(['African Queen, The (1951)', 'Back to the Future (1985)',\n",
              "       \"It's a Wonderful Life (1946)\", 'Matrix, The (1999)',\n",
              "       'Star Trek II: The Wrath of Khan (1982)',\n",
              "       'Star Trek IV: The Voyage Home (1986)',\n",
              "       'Star Wars: Episode IV - A New Hope (1977)',\n",
              "       'Star Wars: Episode V - The Empire Strikes Back (1980)',\n",
              "       'X-Men (2000)'], dtype=object)"
            ]
          },
          "metadata": {},
          "execution_count": 36
        }
      ]
    },
    {
      "cell_type": "markdown",
      "metadata": {
        "id": "k-sRfbd0GMAs"
      },
      "source": [
        "Evaluating the model by returing the same movies for two users"
      ]
    },
    {
      "cell_type": "code",
      "metadata": {
        "id": "0AWQSVThQZy8"
      },
      "source": [
        "def get_user_similar_movies( user1, user2 ):\n",
        "    similar_movies = merge_ratings_movies[merge_ratings_movies.userId == user1].merge(\n",
        "      merge_ratings_movies[merge_ratings_movies.userId == user2],\n",
        "      on = \"movieId\",\n",
        "      how = \"inner\" )\n",
        "    # print(similar_movies.columns)\n",
        "    similar_movies.drop(['movieId','genres_x','genres_y','title_y'],axis=1,inplace=True)\n",
        "    return similar_movies"
      ],
      "execution_count": null,
      "outputs": []
    },
    {
      "cell_type": "code",
      "metadata": {
        "colab": {
          "base_uri": "https://localhost:8080/",
          "height": 143
        },
        "id": "VeZxQ0jlQjvU",
        "outputId": "dae35130-5f4c-4edf-be4b-8148b79de71f"
      },
      "source": [
        "get_user_similar_movies(587,511)"
      ],
      "execution_count": null,
      "outputs": [
        {
          "output_type": "execute_result",
          "data": {
            "text/html": [
              "<div>\n",
              "<style scoped>\n",
              "    .dataframe tbody tr th:only-of-type {\n",
              "        vertical-align: middle;\n",
              "    }\n",
              "\n",
              "    .dataframe tbody tr th {\n",
              "        vertical-align: top;\n",
              "    }\n",
              "\n",
              "    .dataframe thead th {\n",
              "        text-align: right;\n",
              "    }\n",
              "</style>\n",
              "<table border=\"1\" class=\"dataframe\">\n",
              "  <thead>\n",
              "    <tr style=\"text-align: right;\">\n",
              "      <th></th>\n",
              "      <th>title_x</th>\n",
              "      <th>userId_x</th>\n",
              "      <th>rating_x</th>\n",
              "      <th>userId_y</th>\n",
              "      <th>rating_y</th>\n",
              "    </tr>\n",
              "  </thead>\n",
              "  <tbody>\n",
              "    <tr>\n",
              "      <th>0</th>\n",
              "      <td>Forrest Gump (1994)</td>\n",
              "      <td>587</td>\n",
              "      <td>4.0</td>\n",
              "      <td>511</td>\n",
              "      <td>4.5</td>\n",
              "    </tr>\n",
              "    <tr>\n",
              "      <th>1</th>\n",
              "      <td>Life Is Beautiful (La Vita Ã¨ bella) (1997)</td>\n",
              "      <td>587</td>\n",
              "      <td>5.0</td>\n",
              "      <td>511</td>\n",
              "      <td>4.5</td>\n",
              "    </tr>\n",
              "    <tr>\n",
              "      <th>2</th>\n",
              "      <td>Matrix, The (1999)</td>\n",
              "      <td>587</td>\n",
              "      <td>4.0</td>\n",
              "      <td>511</td>\n",
              "      <td>5.0</td>\n",
              "    </tr>\n",
              "  </tbody>\n",
              "</table>\n",
              "</div>"
            ],
            "text/plain": [
              "                                       title_x  userId_x  ...  userId_y  rating_y\n",
              "0                          Forrest Gump (1994)       587  ...       511       4.5\n",
              "1  Life Is Beautiful (La Vita Ã¨ bella) (1997)       587  ...       511       4.5\n",
              "2                           Matrix, The (1999)       587  ...       511       5.0\n",
              "\n",
              "[3 rows x 5 columns]"
            ]
          },
          "metadata": {},
          "execution_count": 46
        }
      ]
    },
    {
      "cell_type": "markdown",
      "metadata": {
        "id": "YzSbXGTmG1z0"
      },
      "source": [
        "Cons for the Memory based filtering are:\n",
        "\n",
        "\n",
        "\n",
        "*   This method cannot recommend movies for new users.\n",
        "*   The system need to wait till the new user watch some movies which gives the system knowledge of user interest. \n",
        "\n"
      ]
    }
  ]
}