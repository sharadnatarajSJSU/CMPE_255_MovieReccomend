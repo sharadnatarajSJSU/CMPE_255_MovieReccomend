{
  "nbformat": 4,
  "nbformat_minor": 0,
  "metadata": {
    "colab": {
      "name": "MovieRecommendationSystem.ipynb",
      "provenance": [],
      "toc_visible": true,
      "authorship_tag": "ABX9TyMxiMYPHjak9i1WsxltehoW",
      "include_colab_link": true
    },
    "kernelspec": {
      "name": "python3",
      "display_name": "Python 3"
    },
    "language_info": {
      "name": "python"
    }
  },
  "cells": [
    {
      "cell_type": "markdown",
      "metadata": {
        "id": "view-in-github",
        "colab_type": "text"
      },
      "source": [
        "<a href=\"https://colab.research.google.com/github/sharadnatarajSJSU/CMPE_255_MovieReccomend/blob/main/MovieRecommendationSystem.ipynb\" target=\"_parent\"><img src=\"https://colab.research.google.com/assets/colab-badge.svg\" alt=\"Open In Colab\"/></a>"
      ]
    },
    {
      "cell_type": "markdown",
      "metadata": {
        "id": "O_PYsZ6AGe2-"
      },
      "source": [
        "Mount drive into colab"
      ]
    },
    {
      "cell_type": "code",
      "metadata": {
        "colab": {
          "base_uri": "https://localhost:8080/"
        },
        "id": "wHQ0-RTRjpA0",
        "outputId": "88297c8f-7de1-4889-c161-c51f3471aa1f"
      },
      "source": [
        "from google.colab import drive\n",
        "drive.mount('/content/drive')"
      ],
      "execution_count": null,
      "outputs": [
        {
          "output_type": "stream",
          "name": "stdout",
          "text": [
            "Mounted at /content/drive\n"
          ]
        }
      ]
    },
    {
      "cell_type": "markdown",
      "metadata": {
        "id": "zgM2HN1uGjir"
      },
      "source": [
        "Importing all the datasets from Drive"
      ]
    },
    {
      "cell_type": "code",
      "metadata": {
        "id": "eGJqkVSaqNL7",
        "colab": {
          "base_uri": "https://localhost:8080/"
        },
        "outputId": "8640fdbb-1e4a-4663-fe2d-fed44649c208"
      },
      "source": [
        "import pandas as pd\n",
        "import seaborn as sbn\n",
        "!pip install squarify\n",
        "import squarify\n",
        "import matplotlib.pyplot as plt\n",
        "import numpy as np\n",
        "path = \"/content/drive/MyDrive/\"\n",
        "tags = pd.read_csv(path+'tags.csv')\n",
        "movies = pd.read_csv(path+'movies.csv')\n",
        "links = pd.read_csv(path+'links.csv')\n",
        "ratings = pd.read_csv(path+'ratings.csv')"
      ],
      "execution_count": null,
      "outputs": [
        {
          "output_type": "stream",
          "name": "stdout",
          "text": [
            "Collecting squarify\n",
            "  Downloading squarify-0.4.3-py3-none-any.whl (4.3 kB)\n",
            "Installing collected packages: squarify\n",
            "Successfully installed squarify-0.4.3\n"
          ]
        }
      ]
    },
    {
      "cell_type": "code",
      "metadata": {
        "colab": {
          "base_uri": "https://localhost:8080/"
        },
        "id": "0DgruTOLB3SK",
        "outputId": "cdf4f1a9-2fec-4fb7-d6ea-72e0c5b78cd2"
      },
      "source": [
        "tags.info()"
      ],
      "execution_count": null,
      "outputs": [
        {
          "output_type": "stream",
          "name": "stdout",
          "text": [
            "<class 'pandas.core.frame.DataFrame'>\n",
            "RangeIndex: 3683 entries, 0 to 3682\n",
            "Data columns (total 4 columns):\n",
            " #   Column     Non-Null Count  Dtype \n",
            "---  ------     --------------  ----- \n",
            " 0   userId     3683 non-null   int64 \n",
            " 1   movieId    3683 non-null   int64 \n",
            " 2   tag        3683 non-null   object\n",
            " 3   timestamp  3683 non-null   int64 \n",
            "dtypes: int64(3), object(1)\n",
            "memory usage: 115.2+ KB\n"
          ]
        }
      ]
    },
    {
      "cell_type": "code",
      "metadata": {
        "colab": {
          "base_uri": "https://localhost:8080/",
          "height": 363
        },
        "id": "C1r5_d7i0sVo",
        "outputId": "933fd594-cc38-442a-8053-afae95edc509"
      },
      "source": [
        "movies.head(10)"
      ],
      "execution_count": null,
      "outputs": [
        {
          "output_type": "execute_result",
          "data": {
            "text/html": [
              "<div>\n",
              "<style scoped>\n",
              "    .dataframe tbody tr th:only-of-type {\n",
              "        vertical-align: middle;\n",
              "    }\n",
              "\n",
              "    .dataframe tbody tr th {\n",
              "        vertical-align: top;\n",
              "    }\n",
              "\n",
              "    .dataframe thead th {\n",
              "        text-align: right;\n",
              "    }\n",
              "</style>\n",
              "<table border=\"1\" class=\"dataframe\">\n",
              "  <thead>\n",
              "    <tr style=\"text-align: right;\">\n",
              "      <th></th>\n",
              "      <th>movieId</th>\n",
              "      <th>title</th>\n",
              "      <th>genres</th>\n",
              "    </tr>\n",
              "  </thead>\n",
              "  <tbody>\n",
              "    <tr>\n",
              "      <th>0</th>\n",
              "      <td>1</td>\n",
              "      <td>Toy Story (1995)</td>\n",
              "      <td>Adventure|Animation|Children|Comedy|Fantasy</td>\n",
              "    </tr>\n",
              "    <tr>\n",
              "      <th>1</th>\n",
              "      <td>2</td>\n",
              "      <td>Jumanji (1995)</td>\n",
              "      <td>Adventure|Children|Fantasy</td>\n",
              "    </tr>\n",
              "    <tr>\n",
              "      <th>2</th>\n",
              "      <td>3</td>\n",
              "      <td>Grumpier Old Men (1995)</td>\n",
              "      <td>Comedy|Romance</td>\n",
              "    </tr>\n",
              "    <tr>\n",
              "      <th>3</th>\n",
              "      <td>4</td>\n",
              "      <td>Waiting to Exhale (1995)</td>\n",
              "      <td>Comedy|Drama|Romance</td>\n",
              "    </tr>\n",
              "    <tr>\n",
              "      <th>4</th>\n",
              "      <td>5</td>\n",
              "      <td>Father of the Bride Part II (1995)</td>\n",
              "      <td>Comedy</td>\n",
              "    </tr>\n",
              "    <tr>\n",
              "      <th>5</th>\n",
              "      <td>6</td>\n",
              "      <td>Heat (1995)</td>\n",
              "      <td>Action|Crime|Thriller</td>\n",
              "    </tr>\n",
              "    <tr>\n",
              "      <th>6</th>\n",
              "      <td>7</td>\n",
              "      <td>Sabrina (1995)</td>\n",
              "      <td>Comedy|Romance</td>\n",
              "    </tr>\n",
              "    <tr>\n",
              "      <th>7</th>\n",
              "      <td>8</td>\n",
              "      <td>Tom and Huck (1995)</td>\n",
              "      <td>Adventure|Children</td>\n",
              "    </tr>\n",
              "    <tr>\n",
              "      <th>8</th>\n",
              "      <td>9</td>\n",
              "      <td>Sudden Death (1995)</td>\n",
              "      <td>Action</td>\n",
              "    </tr>\n",
              "    <tr>\n",
              "      <th>9</th>\n",
              "      <td>10</td>\n",
              "      <td>GoldenEye (1995)</td>\n",
              "      <td>Action|Adventure|Thriller</td>\n",
              "    </tr>\n",
              "  </tbody>\n",
              "</table>\n",
              "</div>"
            ],
            "text/plain": [
              "   movieId  ...                                       genres\n",
              "0        1  ...  Adventure|Animation|Children|Comedy|Fantasy\n",
              "1        2  ...                   Adventure|Children|Fantasy\n",
              "2        3  ...                               Comedy|Romance\n",
              "3        4  ...                         Comedy|Drama|Romance\n",
              "4        5  ...                                       Comedy\n",
              "5        6  ...                        Action|Crime|Thriller\n",
              "6        7  ...                               Comedy|Romance\n",
              "7        8  ...                           Adventure|Children\n",
              "8        9  ...                                       Action\n",
              "9       10  ...                    Action|Adventure|Thriller\n",
              "\n",
              "[10 rows x 3 columns]"
            ]
          },
          "metadata": {},
          "execution_count": 4
        }
      ]
    },
    {
      "cell_type": "code",
      "metadata": {
        "colab": {
          "base_uri": "https://localhost:8080/"
        },
        "id": "Z-lSqhVSsLEK",
        "outputId": "61b820e3-593b-4a1f-f2f7-9fffb5d5a48d"
      },
      "source": [
        "for df in [tags, movies, links, ratings]:\n",
        "  print(df.head(25))\n",
        "  print(\"-----------------------------------------------------------------------------------------------------------------\")"
      ],
      "execution_count": null,
      "outputs": [
        {
          "output_type": "stream",
          "name": "stdout",
          "text": [
            "    userId  movieId                 tag   timestamp\n",
            "0        2    60756               funny  1445714994\n",
            "1        2    60756     Highly quotable  1445714996\n",
            "2        2    60756        will ferrell  1445714992\n",
            "3        2    89774        Boxing story  1445715207\n",
            "4        2    89774                 MMA  1445715200\n",
            "5        2    89774           Tom Hardy  1445715205\n",
            "6        2   106782               drugs  1445715054\n",
            "7        2   106782   Leonardo DiCaprio  1445715051\n",
            "8        2   106782     Martin Scorsese  1445715056\n",
            "9        7    48516        way too long  1169687325\n",
            "10      18      431           Al Pacino  1462138765\n",
            "11      18      431            gangster  1462138749\n",
            "12      18      431               mafia  1462138755\n",
            "13      18     1221           Al Pacino  1461699306\n",
            "14      18     1221               Mafia  1461699303\n",
            "15      18     5995           holocaust  1455735472\n",
            "16      18     5995          true story  1455735479\n",
            "17      18    44665        twist ending  1456948283\n",
            "18      18    52604     Anthony Hopkins  1457650696\n",
            "19      18    52604     courtroom drama  1457650711\n",
            "20      18    52604        twist ending  1457650682\n",
            "21      18    88094             britpop  1457444500\n",
            "22      18    88094  indie record label  1457444592\n",
            "23      18    88094               music  1457444609\n",
            "24      18   144210     dumpster diving  1455060381\n",
            "-----------------------------------------------------------------------------------------------------------------\n",
            "    movieId  ...                                       genres\n",
            "0         1  ...  Adventure|Animation|Children|Comedy|Fantasy\n",
            "1         2  ...                   Adventure|Children|Fantasy\n",
            "2         3  ...                               Comedy|Romance\n",
            "3         4  ...                         Comedy|Drama|Romance\n",
            "4         5  ...                                       Comedy\n",
            "5         6  ...                        Action|Crime|Thriller\n",
            "6         7  ...                               Comedy|Romance\n",
            "7         8  ...                           Adventure|Children\n",
            "8         9  ...                                       Action\n",
            "9        10  ...                    Action|Adventure|Thriller\n",
            "10       11  ...                         Comedy|Drama|Romance\n",
            "11       12  ...                                Comedy|Horror\n",
            "12       13  ...                 Adventure|Animation|Children\n",
            "13       14  ...                                        Drama\n",
            "14       15  ...                     Action|Adventure|Romance\n",
            "15       16  ...                                  Crime|Drama\n",
            "16       17  ...                                Drama|Romance\n",
            "17       18  ...                                       Comedy\n",
            "18       19  ...                                       Comedy\n",
            "19       20  ...           Action|Comedy|Crime|Drama|Thriller\n",
            "20       21  ...                        Comedy|Crime|Thriller\n",
            "21       22  ...          Crime|Drama|Horror|Mystery|Thriller\n",
            "22       23  ...                        Action|Crime|Thriller\n",
            "23       24  ...                                 Drama|Sci-Fi\n",
            "24       25  ...                                Drama|Romance\n",
            "\n",
            "[25 rows x 3 columns]\n",
            "-----------------------------------------------------------------------------------------------------------------\n",
            "    movieId  imdbId   tmdbId\n",
            "0         1  114709    862.0\n",
            "1         2  113497   8844.0\n",
            "2         3  113228  15602.0\n",
            "3         4  114885  31357.0\n",
            "4         5  113041  11862.0\n",
            "5         6  113277    949.0\n",
            "6         7  114319  11860.0\n",
            "7         8  112302  45325.0\n",
            "8         9  114576   9091.0\n",
            "9        10  113189    710.0\n",
            "10       11  112346   9087.0\n",
            "11       12  112896  12110.0\n",
            "12       13  112453  21032.0\n",
            "13       14  113987  10858.0\n",
            "14       15  112760   1408.0\n",
            "15       16  112641    524.0\n",
            "16       17  114388   4584.0\n",
            "17       18  113101      5.0\n",
            "18       19  112281   9273.0\n",
            "19       20  113845  11517.0\n",
            "20       21  113161   8012.0\n",
            "21       22  112722   1710.0\n",
            "22       23  112401   9691.0\n",
            "23       24  114168  12665.0\n",
            "24       25  113627    451.0\n",
            "-----------------------------------------------------------------------------------------------------------------\n",
            "    userId  movieId  rating  timestamp\n",
            "0        1        1     4.0  964982703\n",
            "1        1        3     4.0  964981247\n",
            "2        1        6     4.0  964982224\n",
            "3        1       47     5.0  964983815\n",
            "4        1       50     5.0  964982931\n",
            "5        1       70     3.0  964982400\n",
            "6        1      101     5.0  964980868\n",
            "7        1      110     4.0  964982176\n",
            "8        1      151     5.0  964984041\n",
            "9        1      157     5.0  964984100\n",
            "10       1      163     5.0  964983650\n",
            "11       1      216     5.0  964981208\n",
            "12       1      223     3.0  964980985\n",
            "13       1      231     5.0  964981179\n",
            "14       1      235     4.0  964980908\n",
            "15       1      260     5.0  964981680\n",
            "16       1      296     3.0  964982967\n",
            "17       1      316     3.0  964982310\n",
            "18       1      333     5.0  964981179\n",
            "19       1      349     4.0  964982563\n",
            "20       1      356     4.0  964980962\n",
            "21       1      362     5.0  964982588\n",
            "22       1      367     4.0  964981710\n",
            "23       1      423     3.0  964982363\n",
            "24       1      441     4.0  964980868\n",
            "-----------------------------------------------------------------------------------------------------------------\n"
          ]
        }
      ]
    },
    {
      "cell_type": "markdown",
      "metadata": {
        "id": "vwGQp6MADK0a"
      },
      "source": [
        "Finding the number of Unique Movie IDs in all the 4 dataSets"
      ]
    },
    {
      "cell_type": "code",
      "metadata": {
        "colab": {
          "base_uri": "https://localhost:8080/"
        },
        "id": "p1dQf60uDVkj",
        "outputId": "505be95b-9a03-43bd-e7e6-5ecc6a103195"
      },
      "source": [
        "len(movies.movieId.unique())"
      ],
      "execution_count": null,
      "outputs": [
        {
          "output_type": "execute_result",
          "data": {
            "text/plain": [
              "9742"
            ]
          },
          "metadata": {},
          "execution_count": 6
        }
      ]
    },
    {
      "cell_type": "code",
      "metadata": {
        "colab": {
          "base_uri": "https://localhost:8080/"
        },
        "id": "kVsT1qgWD4gI",
        "outputId": "2380c9fc-a774-4708-b6c3-f8934f858c15"
      },
      "source": [
        "len(links.movieId.unique())"
      ],
      "execution_count": null,
      "outputs": [
        {
          "output_type": "execute_result",
          "data": {
            "text/plain": [
              "9742"
            ]
          },
          "metadata": {},
          "execution_count": 7
        }
      ]
    },
    {
      "cell_type": "code",
      "metadata": {
        "colab": {
          "base_uri": "https://localhost:8080/"
        },
        "id": "7mTy52bgD7bs",
        "outputId": "aeb90784-80c8-47ce-ef48-ff73b516f460"
      },
      "source": [
        "len(ratings.movieId.unique())"
      ],
      "execution_count": null,
      "outputs": [
        {
          "output_type": "execute_result",
          "data": {
            "text/plain": [
              "9724"
            ]
          },
          "metadata": {},
          "execution_count": 8
        }
      ]
    },
    {
      "cell_type": "code",
      "metadata": {
        "colab": {
          "base_uri": "https://localhost:8080/"
        },
        "id": "c4yDwrD7D-3z",
        "outputId": "94f3a2be-efa4-4dfc-8239-278e9f723842"
      },
      "source": [
        "len(tags.movieId.unique())"
      ],
      "execution_count": null,
      "outputs": [
        {
          "output_type": "execute_result",
          "data": {
            "text/plain": [
              "1572"
            ]
          },
          "metadata": {},
          "execution_count": 9
        }
      ]
    },
    {
      "cell_type": "code",
      "metadata": {
        "id": "jkjJ-0-Wsnw4"
      },
      "source": [
        "data = pd.merge(movies, links)"
      ],
      "execution_count": null,
      "outputs": []
    },
    {
      "cell_type": "code",
      "metadata": {
        "colab": {
          "base_uri": "https://localhost:8080/",
          "height": 206
        },
        "id": "akPZ5k0t0QEC",
        "outputId": "0cff9bb9-0886-46cb-8892-b0becf0d2e1b"
      },
      "source": [
        "data.head()"
      ],
      "execution_count": null,
      "outputs": [
        {
          "output_type": "execute_result",
          "data": {
            "text/html": [
              "<div>\n",
              "<style scoped>\n",
              "    .dataframe tbody tr th:only-of-type {\n",
              "        vertical-align: middle;\n",
              "    }\n",
              "\n",
              "    .dataframe tbody tr th {\n",
              "        vertical-align: top;\n",
              "    }\n",
              "\n",
              "    .dataframe thead th {\n",
              "        text-align: right;\n",
              "    }\n",
              "</style>\n",
              "<table border=\"1\" class=\"dataframe\">\n",
              "  <thead>\n",
              "    <tr style=\"text-align: right;\">\n",
              "      <th></th>\n",
              "      <th>movieId</th>\n",
              "      <th>title</th>\n",
              "      <th>genres</th>\n",
              "      <th>imdbId</th>\n",
              "      <th>tmdbId</th>\n",
              "    </tr>\n",
              "  </thead>\n",
              "  <tbody>\n",
              "    <tr>\n",
              "      <th>0</th>\n",
              "      <td>1</td>\n",
              "      <td>Toy Story (1995)</td>\n",
              "      <td>Adventure|Animation|Children|Comedy|Fantasy</td>\n",
              "      <td>114709</td>\n",
              "      <td>862.0</td>\n",
              "    </tr>\n",
              "    <tr>\n",
              "      <th>1</th>\n",
              "      <td>2</td>\n",
              "      <td>Jumanji (1995)</td>\n",
              "      <td>Adventure|Children|Fantasy</td>\n",
              "      <td>113497</td>\n",
              "      <td>8844.0</td>\n",
              "    </tr>\n",
              "    <tr>\n",
              "      <th>2</th>\n",
              "      <td>3</td>\n",
              "      <td>Grumpier Old Men (1995)</td>\n",
              "      <td>Comedy|Romance</td>\n",
              "      <td>113228</td>\n",
              "      <td>15602.0</td>\n",
              "    </tr>\n",
              "    <tr>\n",
              "      <th>3</th>\n",
              "      <td>4</td>\n",
              "      <td>Waiting to Exhale (1995)</td>\n",
              "      <td>Comedy|Drama|Romance</td>\n",
              "      <td>114885</td>\n",
              "      <td>31357.0</td>\n",
              "    </tr>\n",
              "    <tr>\n",
              "      <th>4</th>\n",
              "      <td>5</td>\n",
              "      <td>Father of the Bride Part II (1995)</td>\n",
              "      <td>Comedy</td>\n",
              "      <td>113041</td>\n",
              "      <td>11862.0</td>\n",
              "    </tr>\n",
              "  </tbody>\n",
              "</table>\n",
              "</div>"
            ],
            "text/plain": [
              "   movieId                               title  ...  imdbId   tmdbId\n",
              "0        1                    Toy Story (1995)  ...  114709    862.0\n",
              "1        2                      Jumanji (1995)  ...  113497   8844.0\n",
              "2        3             Grumpier Old Men (1995)  ...  113228  15602.0\n",
              "3        4            Waiting to Exhale (1995)  ...  114885  31357.0\n",
              "4        5  Father of the Bride Part II (1995)  ...  113041  11862.0\n",
              "\n",
              "[5 rows x 5 columns]"
            ]
          },
          "metadata": {},
          "execution_count": 11
        }
      ]
    },
    {
      "cell_type": "code",
      "metadata": {
        "id": "vPj5sbMG6ZJb"
      },
      "source": [
        "data = pd.merge(data, ratings)"
      ],
      "execution_count": null,
      "outputs": []
    },
    {
      "cell_type": "code",
      "metadata": {
        "colab": {
          "base_uri": "https://localhost:8080/",
          "height": 206
        },
        "id": "-PSH97-U6e2f",
        "outputId": "da6de52c-ac93-4749-8c47-989881702bbf"
      },
      "source": [
        "data.head()"
      ],
      "execution_count": null,
      "outputs": [
        {
          "output_type": "execute_result",
          "data": {
            "text/html": [
              "<div>\n",
              "<style scoped>\n",
              "    .dataframe tbody tr th:only-of-type {\n",
              "        vertical-align: middle;\n",
              "    }\n",
              "\n",
              "    .dataframe tbody tr th {\n",
              "        vertical-align: top;\n",
              "    }\n",
              "\n",
              "    .dataframe thead th {\n",
              "        text-align: right;\n",
              "    }\n",
              "</style>\n",
              "<table border=\"1\" class=\"dataframe\">\n",
              "  <thead>\n",
              "    <tr style=\"text-align: right;\">\n",
              "      <th></th>\n",
              "      <th>movieId</th>\n",
              "      <th>title</th>\n",
              "      <th>genres</th>\n",
              "      <th>imdbId</th>\n",
              "      <th>tmdbId</th>\n",
              "      <th>userId</th>\n",
              "      <th>rating</th>\n",
              "      <th>timestamp</th>\n",
              "    </tr>\n",
              "  </thead>\n",
              "  <tbody>\n",
              "    <tr>\n",
              "      <th>0</th>\n",
              "      <td>1</td>\n",
              "      <td>Toy Story (1995)</td>\n",
              "      <td>Adventure|Animation|Children|Comedy|Fantasy</td>\n",
              "      <td>114709</td>\n",
              "      <td>862.0</td>\n",
              "      <td>1</td>\n",
              "      <td>4.0</td>\n",
              "      <td>964982703</td>\n",
              "    </tr>\n",
              "    <tr>\n",
              "      <th>1</th>\n",
              "      <td>1</td>\n",
              "      <td>Toy Story (1995)</td>\n",
              "      <td>Adventure|Animation|Children|Comedy|Fantasy</td>\n",
              "      <td>114709</td>\n",
              "      <td>862.0</td>\n",
              "      <td>5</td>\n",
              "      <td>4.0</td>\n",
              "      <td>847434962</td>\n",
              "    </tr>\n",
              "    <tr>\n",
              "      <th>2</th>\n",
              "      <td>1</td>\n",
              "      <td>Toy Story (1995)</td>\n",
              "      <td>Adventure|Animation|Children|Comedy|Fantasy</td>\n",
              "      <td>114709</td>\n",
              "      <td>862.0</td>\n",
              "      <td>7</td>\n",
              "      <td>4.5</td>\n",
              "      <td>1106635946</td>\n",
              "    </tr>\n",
              "    <tr>\n",
              "      <th>3</th>\n",
              "      <td>1</td>\n",
              "      <td>Toy Story (1995)</td>\n",
              "      <td>Adventure|Animation|Children|Comedy|Fantasy</td>\n",
              "      <td>114709</td>\n",
              "      <td>862.0</td>\n",
              "      <td>15</td>\n",
              "      <td>2.5</td>\n",
              "      <td>1510577970</td>\n",
              "    </tr>\n",
              "    <tr>\n",
              "      <th>4</th>\n",
              "      <td>1</td>\n",
              "      <td>Toy Story (1995)</td>\n",
              "      <td>Adventure|Animation|Children|Comedy|Fantasy</td>\n",
              "      <td>114709</td>\n",
              "      <td>862.0</td>\n",
              "      <td>17</td>\n",
              "      <td>4.5</td>\n",
              "      <td>1305696483</td>\n",
              "    </tr>\n",
              "  </tbody>\n",
              "</table>\n",
              "</div>"
            ],
            "text/plain": [
              "   movieId             title  ... rating   timestamp\n",
              "0        1  Toy Story (1995)  ...    4.0   964982703\n",
              "1        1  Toy Story (1995)  ...    4.0   847434962\n",
              "2        1  Toy Story (1995)  ...    4.5  1106635946\n",
              "3        1  Toy Story (1995)  ...    2.5  1510577970\n",
              "4        1  Toy Story (1995)  ...    4.5  1305696483\n",
              "\n",
              "[5 rows x 8 columns]"
            ]
          },
          "metadata": {},
          "execution_count": 13
        }
      ]
    },
    {
      "cell_type": "code",
      "metadata": {
        "colab": {
          "base_uri": "https://localhost:8080/"
        },
        "id": "BNPJYnZvA7fd",
        "outputId": "9d8f38e2-cd4b-47f7-cb66-ae53d1953dab"
      },
      "source": [
        "data.shape"
      ],
      "execution_count": null,
      "outputs": [
        {
          "output_type": "execute_result",
          "data": {
            "text/plain": [
              "(100836, 8)"
            ]
          },
          "metadata": {},
          "execution_count": 14
        }
      ]
    },
    {
      "cell_type": "markdown",
      "metadata": {
        "id": "q46bA4vOFxM3"
      },
      "source": [
        "Merge Movies and Tags Dataset and create a metadata tag for each movie"
      ]
    },
    {
      "cell_type": "code",
      "metadata": {
        "colab": {
          "base_uri": "https://localhost:8080/",
          "height": 206
        },
        "id": "2kgjOTo1F5jD",
        "outputId": "dd39aec1-f4b4-4e3d-8337-94ca1a16367f"
      },
      "source": [
        "mixed = pd.merge(movies, tags, on='movieId', how='left')\n",
        "mixed.head()"
      ],
      "execution_count": null,
      "outputs": [
        {
          "output_type": "execute_result",
          "data": {
            "text/html": [
              "<div>\n",
              "<style scoped>\n",
              "    .dataframe tbody tr th:only-of-type {\n",
              "        vertical-align: middle;\n",
              "    }\n",
              "\n",
              "    .dataframe tbody tr th {\n",
              "        vertical-align: top;\n",
              "    }\n",
              "\n",
              "    .dataframe thead th {\n",
              "        text-align: right;\n",
              "    }\n",
              "</style>\n",
              "<table border=\"1\" class=\"dataframe\">\n",
              "  <thead>\n",
              "    <tr style=\"text-align: right;\">\n",
              "      <th></th>\n",
              "      <th>movieId</th>\n",
              "      <th>title</th>\n",
              "      <th>genres</th>\n",
              "      <th>userId</th>\n",
              "      <th>tag</th>\n",
              "      <th>timestamp</th>\n",
              "    </tr>\n",
              "  </thead>\n",
              "  <tbody>\n",
              "    <tr>\n",
              "      <th>0</th>\n",
              "      <td>1</td>\n",
              "      <td>Toy Story (1995)</td>\n",
              "      <td>Adventure|Animation|Children|Comedy|Fantasy</td>\n",
              "      <td>336.0</td>\n",
              "      <td>pixar</td>\n",
              "      <td>1.139046e+09</td>\n",
              "    </tr>\n",
              "    <tr>\n",
              "      <th>1</th>\n",
              "      <td>1</td>\n",
              "      <td>Toy Story (1995)</td>\n",
              "      <td>Adventure|Animation|Children|Comedy|Fantasy</td>\n",
              "      <td>474.0</td>\n",
              "      <td>pixar</td>\n",
              "      <td>1.137207e+09</td>\n",
              "    </tr>\n",
              "    <tr>\n",
              "      <th>2</th>\n",
              "      <td>1</td>\n",
              "      <td>Toy Story (1995)</td>\n",
              "      <td>Adventure|Animation|Children|Comedy|Fantasy</td>\n",
              "      <td>567.0</td>\n",
              "      <td>fun</td>\n",
              "      <td>1.525286e+09</td>\n",
              "    </tr>\n",
              "    <tr>\n",
              "      <th>3</th>\n",
              "      <td>2</td>\n",
              "      <td>Jumanji (1995)</td>\n",
              "      <td>Adventure|Children|Fantasy</td>\n",
              "      <td>62.0</td>\n",
              "      <td>fantasy</td>\n",
              "      <td>1.528844e+09</td>\n",
              "    </tr>\n",
              "    <tr>\n",
              "      <th>4</th>\n",
              "      <td>2</td>\n",
              "      <td>Jumanji (1995)</td>\n",
              "      <td>Adventure|Children|Fantasy</td>\n",
              "      <td>62.0</td>\n",
              "      <td>magic board game</td>\n",
              "      <td>1.528844e+09</td>\n",
              "    </tr>\n",
              "  </tbody>\n",
              "</table>\n",
              "</div>"
            ],
            "text/plain": [
              "   movieId             title  ...               tag     timestamp\n",
              "0        1  Toy Story (1995)  ...             pixar  1.139046e+09\n",
              "1        1  Toy Story (1995)  ...             pixar  1.137207e+09\n",
              "2        1  Toy Story (1995)  ...               fun  1.525286e+09\n",
              "3        2    Jumanji (1995)  ...           fantasy  1.528844e+09\n",
              "4        2    Jumanji (1995)  ...  magic board game  1.528844e+09\n",
              "\n",
              "[5 rows x 6 columns]"
            ]
          },
          "metadata": {},
          "execution_count": 15
        }
      ]
    },
    {
      "cell_type": "code",
      "metadata": {
        "colab": {
          "base_uri": "https://localhost:8080/",
          "height": 143
        },
        "id": "niKsmOnDHDPd",
        "outputId": "07124d1c-c0d2-471b-a5bd-f2a63e17fde3"
      },
      "source": [
        "mixed.fillna(\"\", inplace=True)\n",
        "mixed = pd.DataFrame(mixed.groupby('movieId')['tag'].apply(lambda x: \"%s\" % ''.join(x)))\n",
        "Final = pd.merge(movies, mixed, on='movieId', how='left')\n",
        "Final['MetaData'] = Final[['tag', 'genres']].apply(lambda x: ' '.join(x), axis = 1)\n",
        "Final[['movieId', 'title', 'MetaData']].head(3)"
      ],
      "execution_count": null,
      "outputs": [
        {
          "output_type": "execute_result",
          "data": {
            "text/html": [
              "<div>\n",
              "<style scoped>\n",
              "    .dataframe tbody tr th:only-of-type {\n",
              "        vertical-align: middle;\n",
              "    }\n",
              "\n",
              "    .dataframe tbody tr th {\n",
              "        vertical-align: top;\n",
              "    }\n",
              "\n",
              "    .dataframe thead th {\n",
              "        text-align: right;\n",
              "    }\n",
              "</style>\n",
              "<table border=\"1\" class=\"dataframe\">\n",
              "  <thead>\n",
              "    <tr style=\"text-align: right;\">\n",
              "      <th></th>\n",
              "      <th>movieId</th>\n",
              "      <th>title</th>\n",
              "      <th>MetaData</th>\n",
              "    </tr>\n",
              "  </thead>\n",
              "  <tbody>\n",
              "    <tr>\n",
              "      <th>0</th>\n",
              "      <td>1</td>\n",
              "      <td>Toy Story (1995)</td>\n",
              "      <td>pixarpixarfun Adventure|Animation|Children|Com...</td>\n",
              "    </tr>\n",
              "    <tr>\n",
              "      <th>1</th>\n",
              "      <td>2</td>\n",
              "      <td>Jumanji (1995)</td>\n",
              "      <td>fantasymagic board gameRobin Williamsgame Adve...</td>\n",
              "    </tr>\n",
              "    <tr>\n",
              "      <th>2</th>\n",
              "      <td>3</td>\n",
              "      <td>Grumpier Old Men (1995)</td>\n",
              "      <td>moldyold Comedy|Romance</td>\n",
              "    </tr>\n",
              "  </tbody>\n",
              "</table>\n",
              "</div>"
            ],
            "text/plain": [
              "   movieId  ...                                           MetaData\n",
              "0        1  ...  pixarpixarfun Adventure|Animation|Children|Com...\n",
              "1        2  ...  fantasymagic board gameRobin Williamsgame Adve...\n",
              "2        3  ...                            moldyold Comedy|Romance\n",
              "\n",
              "[3 rows x 3 columns]"
            ]
          },
          "metadata": {},
          "execution_count": 16
        }
      ]
    },
    {
      "cell_type": "code",
      "metadata": {
        "colab": {
          "base_uri": "https://localhost:8080/",
          "height": 562
        },
        "id": "2mDwQhPSSaas",
        "outputId": "47e47f2b-1b53-4120-c86a-7efdac1c1e14"
      },
      "source": [
        "Final.shape\n",
        "Final"
      ],
      "execution_count": null,
      "outputs": [
        {
          "output_type": "execute_result",
          "data": {
            "text/html": [
              "<div>\n",
              "<style scoped>\n",
              "    .dataframe tbody tr th:only-of-type {\n",
              "        vertical-align: middle;\n",
              "    }\n",
              "\n",
              "    .dataframe tbody tr th {\n",
              "        vertical-align: top;\n",
              "    }\n",
              "\n",
              "    .dataframe thead th {\n",
              "        text-align: right;\n",
              "    }\n",
              "</style>\n",
              "<table border=\"1\" class=\"dataframe\">\n",
              "  <thead>\n",
              "    <tr style=\"text-align: right;\">\n",
              "      <th></th>\n",
              "      <th>movieId</th>\n",
              "      <th>title</th>\n",
              "      <th>genres</th>\n",
              "      <th>tag</th>\n",
              "      <th>MetaData</th>\n",
              "    </tr>\n",
              "  </thead>\n",
              "  <tbody>\n",
              "    <tr>\n",
              "      <th>0</th>\n",
              "      <td>1</td>\n",
              "      <td>Toy Story (1995)</td>\n",
              "      <td>Adventure|Animation|Children|Comedy|Fantasy</td>\n",
              "      <td>pixarpixarfun</td>\n",
              "      <td>pixarpixarfun Adventure|Animation|Children|Com...</td>\n",
              "    </tr>\n",
              "    <tr>\n",
              "      <th>1</th>\n",
              "      <td>2</td>\n",
              "      <td>Jumanji (1995)</td>\n",
              "      <td>Adventure|Children|Fantasy</td>\n",
              "      <td>fantasymagic board gameRobin Williamsgame</td>\n",
              "      <td>fantasymagic board gameRobin Williamsgame Adve...</td>\n",
              "    </tr>\n",
              "    <tr>\n",
              "      <th>2</th>\n",
              "      <td>3</td>\n",
              "      <td>Grumpier Old Men (1995)</td>\n",
              "      <td>Comedy|Romance</td>\n",
              "      <td>moldyold</td>\n",
              "      <td>moldyold Comedy|Romance</td>\n",
              "    </tr>\n",
              "    <tr>\n",
              "      <th>3</th>\n",
              "      <td>4</td>\n",
              "      <td>Waiting to Exhale (1995)</td>\n",
              "      <td>Comedy|Drama|Romance</td>\n",
              "      <td></td>\n",
              "      <td>Comedy|Drama|Romance</td>\n",
              "    </tr>\n",
              "    <tr>\n",
              "      <th>4</th>\n",
              "      <td>5</td>\n",
              "      <td>Father of the Bride Part II (1995)</td>\n",
              "      <td>Comedy</td>\n",
              "      <td>pregnancyremake</td>\n",
              "      <td>pregnancyremake Comedy</td>\n",
              "    </tr>\n",
              "    <tr>\n",
              "      <th>...</th>\n",
              "      <td>...</td>\n",
              "      <td>...</td>\n",
              "      <td>...</td>\n",
              "      <td>...</td>\n",
              "      <td>...</td>\n",
              "    </tr>\n",
              "    <tr>\n",
              "      <th>9737</th>\n",
              "      <td>193581</td>\n",
              "      <td>Black Butler: Book of the Atlantic (2017)</td>\n",
              "      <td>Action|Animation|Comedy|Fantasy</td>\n",
              "      <td></td>\n",
              "      <td>Action|Animation|Comedy|Fantasy</td>\n",
              "    </tr>\n",
              "    <tr>\n",
              "      <th>9738</th>\n",
              "      <td>193583</td>\n",
              "      <td>No Game No Life: Zero (2017)</td>\n",
              "      <td>Animation|Comedy|Fantasy</td>\n",
              "      <td></td>\n",
              "      <td>Animation|Comedy|Fantasy</td>\n",
              "    </tr>\n",
              "    <tr>\n",
              "      <th>9739</th>\n",
              "      <td>193585</td>\n",
              "      <td>Flint (2017)</td>\n",
              "      <td>Drama</td>\n",
              "      <td></td>\n",
              "      <td>Drama</td>\n",
              "    </tr>\n",
              "    <tr>\n",
              "      <th>9740</th>\n",
              "      <td>193587</td>\n",
              "      <td>Bungo Stray Dogs: Dead Apple (2018)</td>\n",
              "      <td>Action|Animation</td>\n",
              "      <td></td>\n",
              "      <td>Action|Animation</td>\n",
              "    </tr>\n",
              "    <tr>\n",
              "      <th>9741</th>\n",
              "      <td>193609</td>\n",
              "      <td>Andrew Dice Clay: Dice Rules (1991)</td>\n",
              "      <td>Comedy</td>\n",
              "      <td></td>\n",
              "      <td>Comedy</td>\n",
              "    </tr>\n",
              "  </tbody>\n",
              "</table>\n",
              "<p>9742 rows × 5 columns</p>\n",
              "</div>"
            ],
            "text/plain": [
              "      movieId  ...                                           MetaData\n",
              "0           1  ...  pixarpixarfun Adventure|Animation|Children|Com...\n",
              "1           2  ...  fantasymagic board gameRobin Williamsgame Adve...\n",
              "2           3  ...                            moldyold Comedy|Romance\n",
              "3           4  ...                               Comedy|Drama|Romance\n",
              "4           5  ...                             pregnancyremake Comedy\n",
              "...       ...  ...                                                ...\n",
              "9737   193581  ...                    Action|Animation|Comedy|Fantasy\n",
              "9738   193583  ...                           Animation|Comedy|Fantasy\n",
              "9739   193585  ...                                              Drama\n",
              "9740   193587  ...                                   Action|Animation\n",
              "9741   193609  ...                                             Comedy\n",
              "\n",
              "[9742 rows x 5 columns]"
            ]
          },
          "metadata": {},
          "execution_count": 17
        }
      ]
    },
    {
      "cell_type": "markdown",
      "metadata": {
        "id": "SAJoNQcRV5mb"
      },
      "source": [
        "After combining the required dataset, find the most watched movies"
      ]
    },
    {
      "cell_type": "code",
      "metadata": {
        "colab": {
          "base_uri": "https://localhost:8080/",
          "height": 423
        },
        "id": "eLNpgrM0WMWd",
        "outputId": "bcff57f3-5fae-453c-fd7f-fb2f9c3d5d89"
      },
      "source": [
        "MostWatched = data.groupby(\"title\", as_index=False)[\"rating\"].count().sort_values([\"rating\"], ascending=False).rename(columns={\"rating\" : \"times_watched\"})\n",
        "MostWatched"
      ],
      "execution_count": null,
      "outputs": [
        {
          "output_type": "execute_result",
          "data": {
            "text/html": [
              "<div>\n",
              "<style scoped>\n",
              "    .dataframe tbody tr th:only-of-type {\n",
              "        vertical-align: middle;\n",
              "    }\n",
              "\n",
              "    .dataframe tbody tr th {\n",
              "        vertical-align: top;\n",
              "    }\n",
              "\n",
              "    .dataframe thead th {\n",
              "        text-align: right;\n",
              "    }\n",
              "</style>\n",
              "<table border=\"1\" class=\"dataframe\">\n",
              "  <thead>\n",
              "    <tr style=\"text-align: right;\">\n",
              "      <th></th>\n",
              "      <th>title</th>\n",
              "      <th>times_watched</th>\n",
              "    </tr>\n",
              "  </thead>\n",
              "  <tbody>\n",
              "    <tr>\n",
              "      <th>3158</th>\n",
              "      <td>Forrest Gump (1994)</td>\n",
              "      <td>329</td>\n",
              "    </tr>\n",
              "    <tr>\n",
              "      <th>7593</th>\n",
              "      <td>Shawshank Redemption, The (1994)</td>\n",
              "      <td>317</td>\n",
              "    </tr>\n",
              "    <tr>\n",
              "      <th>6865</th>\n",
              "      <td>Pulp Fiction (1994)</td>\n",
              "      <td>307</td>\n",
              "    </tr>\n",
              "    <tr>\n",
              "      <th>7680</th>\n",
              "      <td>Silence of the Lambs, The (1991)</td>\n",
              "      <td>279</td>\n",
              "    </tr>\n",
              "    <tr>\n",
              "      <th>5512</th>\n",
              "      <td>Matrix, The (1999)</td>\n",
              "      <td>278</td>\n",
              "    </tr>\n",
              "    <tr>\n",
              "      <th>...</th>\n",
              "      <td>...</td>\n",
              "      <td>...</td>\n",
              "    </tr>\n",
              "    <tr>\n",
              "      <th>4773</th>\n",
              "      <td>King Solomon's Mines (1950)</td>\n",
              "      <td>1</td>\n",
              "    </tr>\n",
              "    <tr>\n",
              "      <th>4772</th>\n",
              "      <td>King Solomon's Mines (1937)</td>\n",
              "      <td>1</td>\n",
              "    </tr>\n",
              "    <tr>\n",
              "      <th>4771</th>\n",
              "      <td>King Ralph (1991)</td>\n",
              "      <td>1</td>\n",
              "    </tr>\n",
              "    <tr>\n",
              "      <th>4769</th>\n",
              "      <td>King Kong Lives (1986)</td>\n",
              "      <td>1</td>\n",
              "    </tr>\n",
              "    <tr>\n",
              "      <th>9718</th>\n",
              "      <td>À nous la liberté (Freedom for Us) (1931)</td>\n",
              "      <td>1</td>\n",
              "    </tr>\n",
              "  </tbody>\n",
              "</table>\n",
              "<p>9719 rows × 2 columns</p>\n",
              "</div>"
            ],
            "text/plain": [
              "                                          title  times_watched\n",
              "3158                        Forrest Gump (1994)            329\n",
              "7593           Shawshank Redemption, The (1994)            317\n",
              "6865                        Pulp Fiction (1994)            307\n",
              "7680           Silence of the Lambs, The (1991)            279\n",
              "5512                         Matrix, The (1999)            278\n",
              "...                                         ...            ...\n",
              "4773                King Solomon's Mines (1950)              1\n",
              "4772                King Solomon's Mines (1937)              1\n",
              "4771                          King Ralph (1991)              1\n",
              "4769                     King Kong Lives (1986)              1\n",
              "9718  À nous la liberté (Freedom for Us) (1931)              1\n",
              "\n",
              "[9719 rows x 2 columns]"
            ]
          },
          "metadata": {},
          "execution_count": 18
        }
      ]
    },
    {
      "cell_type": "markdown",
      "metadata": {
        "id": "uwfPvOwWXnUX"
      },
      "source": [
        "Here we can see that \"Forest Gump\" is the most watched Movie"
      ]
    },
    {
      "cell_type": "markdown",
      "metadata": {
        "id": "FiYJz-yrZJsv"
      },
      "source": [
        "Highly Rated Movies"
      ]
    },
    {
      "cell_type": "code",
      "metadata": {
        "colab": {
          "base_uri": "https://localhost:8080/",
          "height": 423
        },
        "id": "BK87yR4MZNGQ",
        "outputId": "edf1d190-babe-41a7-d861-659762a5b781"
      },
      "source": [
        "HighlyRated = data.groupby(\"title\", as_index=False)[\"rating\"].mean().sort_values([\"rating\"], ascending=False)\n",
        "HighlyRated"
      ],
      "execution_count": null,
      "outputs": [
        {
          "output_type": "execute_result",
          "data": {
            "text/html": [
              "<div>\n",
              "<style scoped>\n",
              "    .dataframe tbody tr th:only-of-type {\n",
              "        vertical-align: middle;\n",
              "    }\n",
              "\n",
              "    .dataframe tbody tr th {\n",
              "        vertical-align: top;\n",
              "    }\n",
              "\n",
              "    .dataframe thead th {\n",
              "        text-align: right;\n",
              "    }\n",
              "</style>\n",
              "<table border=\"1\" class=\"dataframe\">\n",
              "  <thead>\n",
              "    <tr style=\"text-align: right;\">\n",
              "      <th></th>\n",
              "      <th>title</th>\n",
              "      <th>rating</th>\n",
              "    </tr>\n",
              "  </thead>\n",
              "  <tbody>\n",
              "    <tr>\n",
              "      <th>3354</th>\n",
              "      <td>Gena the Crocodile (1969)</td>\n",
              "      <td>5.0</td>\n",
              "    </tr>\n",
              "    <tr>\n",
              "      <th>8951</th>\n",
              "      <td>True Stories (1986)</td>\n",
              "      <td>5.0</td>\n",
              "    </tr>\n",
              "    <tr>\n",
              "      <th>1986</th>\n",
              "      <td>Cosmic Scrat-tastrophe (2015)</td>\n",
              "      <td>5.0</td>\n",
              "    </tr>\n",
              "    <tr>\n",
              "      <th>5269</th>\n",
              "      <td>Love and Pigeons (1985)</td>\n",
              "      <td>5.0</td>\n",
              "    </tr>\n",
              "    <tr>\n",
              "      <th>7033</th>\n",
              "      <td>Red Sorghum (Hong gao liang) (1987)</td>\n",
              "      <td>5.0</td>\n",
              "    </tr>\n",
              "    <tr>\n",
              "      <th>...</th>\n",
              "      <td>...</td>\n",
              "      <td>...</td>\n",
              "    </tr>\n",
              "    <tr>\n",
              "      <th>2482</th>\n",
              "      <td>Don't Look Now (1973)</td>\n",
              "      <td>0.5</td>\n",
              "    </tr>\n",
              "    <tr>\n",
              "      <th>4617</th>\n",
              "      <td>Journey 2: The Mysterious Island (2012)</td>\n",
              "      <td>0.5</td>\n",
              "    </tr>\n",
              "    <tr>\n",
              "      <th>4581</th>\n",
              "      <td>Joe Dirt 2: Beautiful Loser (2015)</td>\n",
              "      <td>0.5</td>\n",
              "    </tr>\n",
              "    <tr>\n",
              "      <th>4556</th>\n",
              "      <td>Jesus Christ Vampire Hunter (2001)</td>\n",
              "      <td>0.5</td>\n",
              "    </tr>\n",
              "    <tr>\n",
              "      <th>3284</th>\n",
              "      <td>Fullmetal Alchemist 2018 (2017)</td>\n",
              "      <td>0.5</td>\n",
              "    </tr>\n",
              "  </tbody>\n",
              "</table>\n",
              "<p>9719 rows × 2 columns</p>\n",
              "</div>"
            ],
            "text/plain": [
              "                                        title  rating\n",
              "3354                Gena the Crocodile (1969)     5.0\n",
              "8951                      True Stories (1986)     5.0\n",
              "1986            Cosmic Scrat-tastrophe (2015)     5.0\n",
              "5269                  Love and Pigeons (1985)     5.0\n",
              "7033      Red Sorghum (Hong gao liang) (1987)     5.0\n",
              "...                                       ...     ...\n",
              "2482                    Don't Look Now (1973)     0.5\n",
              "4617  Journey 2: The Mysterious Island (2012)     0.5\n",
              "4581       Joe Dirt 2: Beautiful Loser (2015)     0.5\n",
              "4556       Jesus Christ Vampire Hunter (2001)     0.5\n",
              "3284          Fullmetal Alchemist 2018 (2017)     0.5\n",
              "\n",
              "[9719 rows x 2 columns]"
            ]
          },
          "metadata": {},
          "execution_count": 19
        }
      ]
    },
    {
      "cell_type": "markdown",
      "metadata": {
        "id": "UDEN1CYpZxMT"
      },
      "source": [
        "Some of the Highly Rated Movies are \"Gena the Crocodile\", \"True Stories\", \"Cosmic Scrat-tastrophe\", \"Love and Pigeons\", \"Red Sorghum\""
      ]
    },
    {
      "cell_type": "code",
      "metadata": {
        "colab": {
          "base_uri": "https://localhost:8080/",
          "height": 458
        },
        "id": "N4ZiP6L9aE6s",
        "outputId": "4e837d29-d8f9-4433-8052-c7031d982cf6"
      },
      "source": [
        "plot = pd.merge(MostWatched,HighlyRated)\n",
        "sbn.jointplot(x=\"times_watched\", y=\"rating\", data=plot ,kind=\"reg\")"
      ],
      "execution_count": null,
      "outputs": [
        {
          "output_type": "execute_result",
          "data": {
            "text/plain": [
              "<seaborn.axisgrid.JointGrid at 0x7f97367e4150>"
            ]
          },
          "metadata": {},
          "execution_count": 20
        },
        {
          "output_type": "display_data",
          "data": {
            "image/png": "[encoded data removed]",
            "text/plain": [
              "<Figure size 432x432 with 3 Axes>"
            ]
          },
          "metadata": {
            "needs_background": "light"
          }
        }
      ]
    },
    {
      "cell_type": "markdown",
      "metadata": {
        "id": "aTwgc_K8hDPc"
      },
      "source": [
        "There is positive regression line between the two attributes. However, this is not a perfect correlation, that is most popular movies are not necessarily the highest rated ones"
      ]
    },
    {
      "cell_type": "code",
      "metadata": {
        "colab": {
          "base_uri": "https://localhost:8080/",
          "height": 428
        },
        "id": "pbD5t7JMhWQ9",
        "outputId": "e3b47905-ad77-4a4d-9be3-e507f5e7ec60"
      },
      "source": [
        "plt.figure(figsize=(20,7))\n",
        "genrelist = movies['genres'].apply(lambda genrelist_movie : str(genrelist_movie).split(\"|\"))\n",
        "genre_count = {}\n",
        "\n",
        "for genrelist_movie in genrelist:\n",
        "    for genre in genrelist_movie:\n",
        "        if(genre_count.get(genre,False)):\n",
        "            genre_count[genre]=genre_count[genre]+1\n",
        "        else:\n",
        "            genre_count[genre] = 1       \n",
        "genre_count.pop(\"(no genres listed)\")\n",
        "plt.bar(genre_count.keys(),genre_count.values(),color='m')"
      ],
      "execution_count": null,
      "outputs": [
        {
          "output_type": "execute_result",
          "data": {
            "text/plain": [
              "<BarContainer object of 19 artists>"
            ]
          },
          "metadata": {},
          "execution_count": 21
        },
        {
          "output_type": "display_data",
          "data": {
            "image/png": "[encoded data removed]",
            "text/plain": [
              "<Figure size 1440x504 with 1 Axes>"
            ]
          },
          "metadata": {
            "needs_background": "light"
          }
        }
      ]
    },
    {
      "cell_type": "code",
      "metadata": {
        "colab": {
          "base_uri": "https://localhost:8080/",
          "height": 334
        },
        "id": "xxdQAykdzn_R",
        "outputId": "9955bc40-3f85-48a8-a452-cc5797de8793"
      },
      "source": [
        "sbn.distplot(ratings[\"rating\"]);"
      ],
      "execution_count": null,
      "outputs": [
        {
          "output_type": "stream",
          "name": "stderr",
          "text": [
            "/usr/local/lib/python3.7/dist-packages/seaborn/distributions.py:2619: FutureWarning: `distplot` is a deprecated function and will be removed in a future version. Please adapt your code to use either `displot` (a figure-level function with similar flexibility) or `histplot` (an axes-level function for histograms).\n",
            "  warnings.warn(msg, FutureWarning)\n"
          ]
        },
        {
          "output_type": "display_data",
          "data": {
            "image/png": "[encoded data removed]",
            "text/plain": [
              "<Figure size 432x288 with 1 Axes>"
            ]
          },
          "metadata": {
            "needs_background": "light"
          }
        }
      ]
    },
    {
      "cell_type": "code",
      "metadata": {
        "colab": {
          "base_uri": "https://localhost:8080/",
          "height": 206
        },
        "id": "7fpx-7n6zxlD",
        "outputId": "80e82611-6822-42f5-c58a-50fc230f2f7b"
      },
      "source": [
        "merge_ratings_movies = pd.merge(movies, ratings, on='movieId', how='inner')\n",
        "merge_ratings_movies.head()"
      ],
      "execution_count": null,
      "outputs": [
        {
          "output_type": "execute_result",
          "data": {
            "text/html": [
              "<div>\n",
              "<style scoped>\n",
              "    .dataframe tbody tr th:only-of-type {\n",
              "        vertical-align: middle;\n",
              "    }\n",
              "\n",
              "    .dataframe tbody tr th {\n",
              "        vertical-align: top;\n",
              "    }\n",
              "\n",
              "    .dataframe thead th {\n",
              "        text-align: right;\n",
              "    }\n",
              "</style>\n",
              "<table border=\"1\" class=\"dataframe\">\n",
              "  <thead>\n",
              "    <tr style=\"text-align: right;\">\n",
              "      <th></th>\n",
              "      <th>movieId</th>\n",
              "      <th>title</th>\n",
              "      <th>genres</th>\n",
              "      <th>userId</th>\n",
              "      <th>rating</th>\n",
              "      <th>timestamp</th>\n",
              "    </tr>\n",
              "  </thead>\n",
              "  <tbody>\n",
              "    <tr>\n",
              "      <th>0</th>\n",
              "      <td>1</td>\n",
              "      <td>Toy Story (1995)</td>\n",
              "      <td>Adventure|Animation|Children|Comedy|Fantasy</td>\n",
              "      <td>1</td>\n",
              "      <td>4.0</td>\n",
              "      <td>964982703</td>\n",
              "    </tr>\n",
              "    <tr>\n",
              "      <th>1</th>\n",
              "      <td>1</td>\n",
              "      <td>Toy Story (1995)</td>\n",
              "      <td>Adventure|Animation|Children|Comedy|Fantasy</td>\n",
              "      <td>5</td>\n",
              "      <td>4.0</td>\n",
              "      <td>847434962</td>\n",
              "    </tr>\n",
              "    <tr>\n",
              "      <th>2</th>\n",
              "      <td>1</td>\n",
              "      <td>Toy Story (1995)</td>\n",
              "      <td>Adventure|Animation|Children|Comedy|Fantasy</td>\n",
              "      <td>7</td>\n",
              "      <td>4.5</td>\n",
              "      <td>1106635946</td>\n",
              "    </tr>\n",
              "    <tr>\n",
              "      <th>3</th>\n",
              "      <td>1</td>\n",
              "      <td>Toy Story (1995)</td>\n",
              "      <td>Adventure|Animation|Children|Comedy|Fantasy</td>\n",
              "      <td>15</td>\n",
              "      <td>2.5</td>\n",
              "      <td>1510577970</td>\n",
              "    </tr>\n",
              "    <tr>\n",
              "      <th>4</th>\n",
              "      <td>1</td>\n",
              "      <td>Toy Story (1995)</td>\n",
              "      <td>Adventure|Animation|Children|Comedy|Fantasy</td>\n",
              "      <td>17</td>\n",
              "      <td>4.5</td>\n",
              "      <td>1305696483</td>\n",
              "    </tr>\n",
              "  </tbody>\n",
              "</table>\n",
              "</div>"
            ],
            "text/plain": [
              "   movieId             title  ... rating   timestamp\n",
              "0        1  Toy Story (1995)  ...    4.0   964982703\n",
              "1        1  Toy Story (1995)  ...    4.0   847434962\n",
              "2        1  Toy Story (1995)  ...    4.5  1106635946\n",
              "3        1  Toy Story (1995)  ...    2.5  1510577970\n",
              "4        1  Toy Story (1995)  ...    4.5  1305696483\n",
              "\n",
              "[5 rows x 6 columns]"
            ]
          },
          "metadata": {},
          "execution_count": 23
        }
      ]
    },
    {
      "cell_type": "code",
      "metadata": {
        "colab": {
          "base_uri": "https://localhost:8080/"
        },
        "id": "hZS9_jqXB0D2",
        "outputId": "e7448746-4dd2-4569-f3d1-1feeb3cf5dae"
      },
      "source": [
        "merge_ratings_movies = merge_ratings_movies.drop('timestamp', axis=1)\n",
        "merge_ratings_movies.shape"
      ],
      "execution_count": null,
      "outputs": [
        {
          "output_type": "execute_result",
          "data": {
            "text/plain": [
              "(100836, 5)"
            ]
          },
          "metadata": {},
          "execution_count": 24
        }
      ]
    },
    {
      "cell_type": "code",
      "metadata": {
        "colab": {
          "base_uri": "https://localhost:8080/",
          "height": 174
        },
        "id": "aE5Z3PLwMm-J",
        "outputId": "bb693832-e7aa-44db-ce81-35582ddefc96"
      },
      "source": [
        "ratings_grouped_by_users = merge_ratings_movies.groupby('userId').agg([np.size, np.mean])\n",
        "ratings_grouped_by_users.head(2)"
      ],
      "execution_count": null,
      "outputs": [
        {
          "output_type": "execute_result",
          "data": {
            "text/html": [
              "<div>\n",
              "<style scoped>\n",
              "    .dataframe tbody tr th:only-of-type {\n",
              "        vertical-align: middle;\n",
              "    }\n",
              "\n",
              "    .dataframe tbody tr th {\n",
              "        vertical-align: top;\n",
              "    }\n",
              "\n",
              "    .dataframe thead tr th {\n",
              "        text-align: left;\n",
              "    }\n",
              "\n",
              "    .dataframe thead tr:last-of-type th {\n",
              "        text-align: right;\n",
              "    }\n",
              "</style>\n",
              "<table border=\"1\" class=\"dataframe\">\n",
              "  <thead>\n",
              "    <tr>\n",
              "      <th></th>\n",
              "      <th colspan=\"2\" halign=\"left\">movieId</th>\n",
              "      <th colspan=\"2\" halign=\"left\">rating</th>\n",
              "    </tr>\n",
              "    <tr>\n",
              "      <th></th>\n",
              "      <th>size</th>\n",
              "      <th>mean</th>\n",
              "      <th>size</th>\n",
              "      <th>mean</th>\n",
              "    </tr>\n",
              "    <tr>\n",
              "      <th>userId</th>\n",
              "      <th></th>\n",
              "      <th></th>\n",
              "      <th></th>\n",
              "      <th></th>\n",
              "    </tr>\n",
              "  </thead>\n",
              "  <tbody>\n",
              "    <tr>\n",
              "      <th>1</th>\n",
              "      <td>232</td>\n",
              "      <td>1854.603448</td>\n",
              "      <td>232.0</td>\n",
              "      <td>4.366379</td>\n",
              "    </tr>\n",
              "    <tr>\n",
              "      <th>2</th>\n",
              "      <td>29</td>\n",
              "      <td>70350.275862</td>\n",
              "      <td>29.0</td>\n",
              "      <td>3.948276</td>\n",
              "    </tr>\n",
              "  </tbody>\n",
              "</table>\n",
              "</div>"
            ],
            "text/plain": [
              "       movieId               rating          \n",
              "          size          mean   size      mean\n",
              "userId                                       \n",
              "1          232   1854.603448  232.0  4.366379\n",
              "2           29  70350.275862   29.0  3.948276"
            ]
          },
          "metadata": {},
          "execution_count": 25
        }
      ]
    },
    {
      "cell_type": "code",
      "metadata": {
        "colab": {
          "base_uri": "https://localhost:8080/",
          "height": 269
        },
        "id": "5DH9q-3GOJxn",
        "outputId": "7df067c7-7149-4883-f817-cdad611fd5c0"
      },
      "source": [
        "ratings_grouped_by_movies = merge_ratings_movies.groupby('movieId').agg([np.mean], np.size)\n",
        "ratings_grouped_by_movies.shape\n",
        "ratings_grouped_by_movies.head()"
      ],
      "execution_count": null,
      "outputs": [
        {
          "output_type": "execute_result",
          "data": {
            "text/html": [
              "<div>\n",
              "<style scoped>\n",
              "    .dataframe tbody tr th:only-of-type {\n",
              "        vertical-align: middle;\n",
              "    }\n",
              "\n",
              "    .dataframe tbody tr th {\n",
              "        vertical-align: top;\n",
              "    }\n",
              "\n",
              "    .dataframe thead tr th {\n",
              "        text-align: left;\n",
              "    }\n",
              "\n",
              "    .dataframe thead tr:last-of-type th {\n",
              "        text-align: right;\n",
              "    }\n",
              "</style>\n",
              "<table border=\"1\" class=\"dataframe\">\n",
              "  <thead>\n",
              "    <tr>\n",
              "      <th></th>\n",
              "      <th>userId</th>\n",
              "      <th>rating</th>\n",
              "    </tr>\n",
              "    <tr>\n",
              "      <th></th>\n",
              "      <th>mean</th>\n",
              "      <th>mean</th>\n",
              "    </tr>\n",
              "    <tr>\n",
              "      <th>movieId</th>\n",
              "      <th></th>\n",
              "      <th></th>\n",
              "    </tr>\n",
              "  </thead>\n",
              "  <tbody>\n",
              "    <tr>\n",
              "      <th>1</th>\n",
              "      <td>306.530233</td>\n",
              "      <td>3.920930</td>\n",
              "    </tr>\n",
              "    <tr>\n",
              "      <th>2</th>\n",
              "      <td>329.554545</td>\n",
              "      <td>3.431818</td>\n",
              "    </tr>\n",
              "    <tr>\n",
              "      <th>3</th>\n",
              "      <td>283.596154</td>\n",
              "      <td>3.259615</td>\n",
              "    </tr>\n",
              "    <tr>\n",
              "      <th>4</th>\n",
              "      <td>219.857143</td>\n",
              "      <td>2.357143</td>\n",
              "    </tr>\n",
              "    <tr>\n",
              "      <th>5</th>\n",
              "      <td>299.571429</td>\n",
              "      <td>3.071429</td>\n",
              "    </tr>\n",
              "  </tbody>\n",
              "</table>\n",
              "</div>"
            ],
            "text/plain": [
              "             userId    rating\n",
              "               mean      mean\n",
              "movieId                      \n",
              "1        306.530233  3.920930\n",
              "2        329.554545  3.431818\n",
              "3        283.596154  3.259615\n",
              "4        219.857143  2.357143\n",
              "5        299.571429  3.071429"
            ]
          },
          "metadata": {},
          "execution_count": 26
        }
      ]
    },
    {
      "cell_type": "code",
      "metadata": {
        "id": "Zwi-BBKWOWkK"
      },
      "source": [
        "ratings_grouped_by_movies = ratings_grouped_by_movies.drop('userId', axis=1)"
      ],
      "execution_count": null,
      "outputs": []
    },
    {
      "cell_type": "code",
      "metadata": {
        "colab": {
          "base_uri": "https://localhost:8080/",
          "height": 374
        },
        "id": "QekP5vUqOZIX",
        "outputId": "7807812e-664a-4abb-a9ea-929fb48a3250"
      },
      "source": [
        "ratings_grouped_by_movies['rating']['mean'].sort_values(ascending=False).head(10).plot(kind='barh', figsize=(7,6));"
      ],
      "execution_count": null,
      "outputs": [
        {
          "output_type": "display_data",
          "data": {
            "image/png": "[encoded data removed]",
            "text/plain": [
              "<Figure size 504x432 with 1 Axes>"
            ]
          },
          "metadata": {
            "needs_background": "light"
          }
        }
      ]
    },
    {
      "cell_type": "code",
      "metadata": {
        "colab": {
          "base_uri": "https://localhost:8080/",
          "height": 320
        },
        "id": "UFIhJCtYOgdX",
        "outputId": "556975a2-01da-48e1-bcc3-2d678124d646"
      },
      "source": [
        "low_rated_movies_filter = ratings_grouped_by_movies['rating']['mean']< 1.5\n",
        "low_rated_movies = ratings_grouped_by_movies[low_rated_movies_filter]\n",
        "low_rated_movies.head(20).plot(kind='barh', figsize=(7,5));"
      ],
      "execution_count": null,
      "outputs": [
        {
          "output_type": "display_data",
          "data": {
            "image/png": "[encoded data removed]",
            "text/plain": [
              "<Figure size 504x360 with 1 Axes>"
            ]
          },
          "metadata": {
            "needs_background": "light"
          }
        }
      ]
    },
    {
      "cell_type": "code",
      "metadata": {
        "colab": {
          "base_uri": "https://localhost:8080/",
          "height": 269
        },
        "id": "yEuId6I4OwG-",
        "outputId": "2ba6555e-35b0-47d8-ae00-9bab3ba26fee"
      },
      "source": [
        "low_rated_movies.head()"
      ],
      "execution_count": null,
      "outputs": [
        {
          "output_type": "execute_result",
          "data": {
            "text/html": [
              "<div>\n",
              "<style scoped>\n",
              "    .dataframe tbody tr th:only-of-type {\n",
              "        vertical-align: middle;\n",
              "    }\n",
              "\n",
              "    .dataframe tbody tr th {\n",
              "        vertical-align: top;\n",
              "    }\n",
              "\n",
              "    .dataframe thead tr th {\n",
              "        text-align: left;\n",
              "    }\n",
              "\n",
              "    .dataframe thead tr:last-of-type th {\n",
              "        text-align: right;\n",
              "    }\n",
              "</style>\n",
              "<table border=\"1\" class=\"dataframe\">\n",
              "  <thead>\n",
              "    <tr>\n",
              "      <th></th>\n",
              "      <th>rating</th>\n",
              "    </tr>\n",
              "    <tr>\n",
              "      <th></th>\n",
              "      <th>mean</th>\n",
              "    </tr>\n",
              "    <tr>\n",
              "      <th>movieId</th>\n",
              "      <th></th>\n",
              "    </tr>\n",
              "  </thead>\n",
              "  <tbody>\n",
              "    <tr>\n",
              "      <th>178</th>\n",
              "      <td>1.000000</td>\n",
              "    </tr>\n",
              "    <tr>\n",
              "      <th>312</th>\n",
              "      <td>1.444444</td>\n",
              "    </tr>\n",
              "    <tr>\n",
              "      <th>449</th>\n",
              "      <td>1.000000</td>\n",
              "    </tr>\n",
              "    <tr>\n",
              "      <th>470</th>\n",
              "      <td>1.000000</td>\n",
              "    </tr>\n",
              "    <tr>\n",
              "      <th>476</th>\n",
              "      <td>1.000000</td>\n",
              "    </tr>\n",
              "  </tbody>\n",
              "</table>\n",
              "</div>"
            ],
            "text/plain": [
              "           rating\n",
              "             mean\n",
              "movieId          \n",
              "178      1.000000\n",
              "312      1.444444\n",
              "449      1.000000\n",
              "470      1.000000\n",
              "476      1.000000"
            ]
          },
          "metadata": {},
          "execution_count": 30
        }
      ]
    },
    {
      "cell_type": "code",
      "metadata": {
        "colab": {
          "base_uri": "https://localhost:8080/"
        },
        "id": "msqAcUj85Tfj",
        "outputId": "b082d9e7-650e-49f7-bdbc-dec383fb5237"
      },
      "source": [
        "data.info()"
      ],
      "execution_count": null,
      "outputs": [
        {
          "output_type": "stream",
          "name": "stdout",
          "text": [
            "<class 'pandas.core.frame.DataFrame'>\n",
            "Int64Index: 100836 entries, 0 to 100835\n",
            "Data columns (total 8 columns):\n",
            " #   Column     Non-Null Count   Dtype  \n",
            "---  ------     --------------   -----  \n",
            " 0   movieId    100836 non-null  int64  \n",
            " 1   title      100836 non-null  object \n",
            " 2   genres     100836 non-null  object \n",
            " 3   imdbId     100836 non-null  int64  \n",
            " 4   tmdbId     100823 non-null  float64\n",
            " 5   userId     100836 non-null  int64  \n",
            " 6   rating     100836 non-null  float64\n",
            " 7   timestamp  100836 non-null  int64  \n",
            "dtypes: float64(2), int64(4), object(2)\n",
            "memory usage: 6.9+ MB\n"
          ]
        }
      ]
    },
    {
      "cell_type": "code",
      "metadata": {
        "colab": {
          "base_uri": "https://localhost:8080/",
          "height": 394
        },
        "id": "Vkek8-Lo5lCN",
        "outputId": "9a6df10e-93ea-4d5a-97d1-14e4c5993413"
      },
      "source": [
        "data.describe(include=\"all\")"
      ],
      "execution_count": null,
      "outputs": [
        {
          "output_type": "execute_result",
          "data": {
            "text/html": [
              "<div>\n",
              "<style scoped>\n",
              "    .dataframe tbody tr th:only-of-type {\n",
              "        vertical-align: middle;\n",
              "    }\n",
              "\n",
              "    .dataframe tbody tr th {\n",
              "        vertical-align: top;\n",
              "    }\n",
              "\n",
              "    .dataframe thead th {\n",
              "        text-align: right;\n",
              "    }\n",
              "</style>\n",
              "<table border=\"1\" class=\"dataframe\">\n",
              "  <thead>\n",
              "    <tr style=\"text-align: right;\">\n",
              "      <th></th>\n",
              "      <th>movieId</th>\n",
              "      <th>title</th>\n",
              "      <th>genres</th>\n",
              "      <th>imdbId</th>\n",
              "      <th>tmdbId</th>\n",
              "      <th>userId</th>\n",
              "      <th>rating</th>\n",
              "      <th>timestamp</th>\n",
              "    </tr>\n",
              "  </thead>\n",
              "  <tbody>\n",
              "    <tr>\n",
              "      <th>count</th>\n",
              "      <td>100836.000000</td>\n",
              "      <td>100836</td>\n",
              "      <td>100836</td>\n",
              "      <td>1.008360e+05</td>\n",
              "      <td>100823.000000</td>\n",
              "      <td>100836.000000</td>\n",
              "      <td>100836.000000</td>\n",
              "      <td>1.008360e+05</td>\n",
              "    </tr>\n",
              "    <tr>\n",
              "      <th>unique</th>\n",
              "      <td>NaN</td>\n",
              "      <td>9719</td>\n",
              "      <td>951</td>\n",
              "      <td>NaN</td>\n",
              "      <td>NaN</td>\n",
              "      <td>NaN</td>\n",
              "      <td>NaN</td>\n",
              "      <td>NaN</td>\n",
              "    </tr>\n",
              "    <tr>\n",
              "      <th>top</th>\n",
              "      <td>NaN</td>\n",
              "      <td>Forrest Gump (1994)</td>\n",
              "      <td>Comedy</td>\n",
              "      <td>NaN</td>\n",
              "      <td>NaN</td>\n",
              "      <td>NaN</td>\n",
              "      <td>NaN</td>\n",
              "      <td>NaN</td>\n",
              "    </tr>\n",
              "    <tr>\n",
              "      <th>freq</th>\n",
              "      <td>NaN</td>\n",
              "      <td>329</td>\n",
              "      <td>7196</td>\n",
              "      <td>NaN</td>\n",
              "      <td>NaN</td>\n",
              "      <td>NaN</td>\n",
              "      <td>NaN</td>\n",
              "      <td>NaN</td>\n",
              "    </tr>\n",
              "    <tr>\n",
              "      <th>mean</th>\n",
              "      <td>19435.295718</td>\n",
              "      <td>NaN</td>\n",
              "      <td>NaN</td>\n",
              "      <td>3.515475e+05</td>\n",
              "      <td>20105.462633</td>\n",
              "      <td>326.127564</td>\n",
              "      <td>3.501557</td>\n",
              "      <td>1.205946e+09</td>\n",
              "    </tr>\n",
              "    <tr>\n",
              "      <th>std</th>\n",
              "      <td>35530.987199</td>\n",
              "      <td>NaN</td>\n",
              "      <td>NaN</td>\n",
              "      <td>6.220602e+05</td>\n",
              "      <td>53274.143620</td>\n",
              "      <td>182.618491</td>\n",
              "      <td>1.042529</td>\n",
              "      <td>2.162610e+08</td>\n",
              "    </tr>\n",
              "    <tr>\n",
              "      <th>min</th>\n",
              "      <td>1.000000</td>\n",
              "      <td>NaN</td>\n",
              "      <td>NaN</td>\n",
              "      <td>4.170000e+02</td>\n",
              "      <td>2.000000</td>\n",
              "      <td>1.000000</td>\n",
              "      <td>0.500000</td>\n",
              "      <td>8.281246e+08</td>\n",
              "    </tr>\n",
              "    <tr>\n",
              "      <th>25%</th>\n",
              "      <td>1199.000000</td>\n",
              "      <td>NaN</td>\n",
              "      <td>NaN</td>\n",
              "      <td>9.968500e+04</td>\n",
              "      <td>712.000000</td>\n",
              "      <td>177.000000</td>\n",
              "      <td>3.000000</td>\n",
              "      <td>1.019124e+09</td>\n",
              "    </tr>\n",
              "    <tr>\n",
              "      <th>50%</th>\n",
              "      <td>2991.000000</td>\n",
              "      <td>NaN</td>\n",
              "      <td>NaN</td>\n",
              "      <td>1.187690e+05</td>\n",
              "      <td>6957.000000</td>\n",
              "      <td>325.000000</td>\n",
              "      <td>3.500000</td>\n",
              "      <td>1.186087e+09</td>\n",
              "    </tr>\n",
              "    <tr>\n",
              "      <th>75%</th>\n",
              "      <td>8122.000000</td>\n",
              "      <td>NaN</td>\n",
              "      <td>NaN</td>\n",
              "      <td>3.149790e+05</td>\n",
              "      <td>11635.000000</td>\n",
              "      <td>477.000000</td>\n",
              "      <td>4.000000</td>\n",
              "      <td>1.435994e+09</td>\n",
              "    </tr>\n",
              "    <tr>\n",
              "      <th>max</th>\n",
              "      <td>193609.000000</td>\n",
              "      <td>NaN</td>\n",
              "      <td>NaN</td>\n",
              "      <td>8.391976e+06</td>\n",
              "      <td>525662.000000</td>\n",
              "      <td>610.000000</td>\n",
              "      <td>5.000000</td>\n",
              "      <td>1.537799e+09</td>\n",
              "    </tr>\n",
              "  </tbody>\n",
              "</table>\n",
              "</div>"
            ],
            "text/plain": [
              "              movieId                title  ...         rating     timestamp\n",
              "count   100836.000000               100836  ...  100836.000000  1.008360e+05\n",
              "unique            NaN                 9719  ...            NaN           NaN\n",
              "top               NaN  Forrest Gump (1994)  ...            NaN           NaN\n",
              "freq              NaN                  329  ...            NaN           NaN\n",
              "mean     19435.295718                  NaN  ...       3.501557  1.205946e+09\n",
              "std      35530.987199                  NaN  ...       1.042529  2.162610e+08\n",
              "min          1.000000                  NaN  ...       0.500000  8.281246e+08\n",
              "25%       1199.000000                  NaN  ...       3.000000  1.019124e+09\n",
              "50%       2991.000000                  NaN  ...       3.500000  1.186087e+09\n",
              "75%       8122.000000                  NaN  ...       4.000000  1.435994e+09\n",
              "max     193609.000000                  NaN  ...       5.000000  1.537799e+09\n",
              "\n",
              "[11 rows x 8 columns]"
            ]
          },
          "metadata": {},
          "execution_count": 32
        }
      ]
    }
  ]
}